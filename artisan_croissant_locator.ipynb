{
 "cells": [
  {
   "cell_type": "code",
   "execution_count": 1,
   "metadata": {},
   "outputs": [],
   "source": [
    "# waut\n",
    "\n",
    "# https://www.freecodecamp.org/news/how-to-scrape-websites-with-python-and-beautifulsoup-5946935d93fe/\n",
    "# https://codeburst.io/web-scraping-101-with-python-beautiful-soup-bb617be1f486\n"
   ]
  },
  {
   "cell_type": "code",
   "execution_count": 2,
   "metadata": {},
   "outputs": [],
   "source": [
    "import pandas as pd\n",
    "import requests\n",
    "import time\n",
    "from selenium import webdriver\n",
    "from bs4 import BeautifulSoup"
   ]
  },
  {
   "cell_type": "code",
   "execution_count": 3,
   "metadata": {},
   "outputs": [],
   "source": [
    "earl = \"https://www.yelp.com/search?find_desc=croissant&find_loc=Chicago%2C+IL+60608&ns=1\"\n",
    "response = requests.get(earl)"
   ]
  },
  {
   "cell_type": "code",
   "execution_count": 4,
   "metadata": {},
   "outputs": [
    {
     "name": "stdout",
     "output_type": "stream",
     "text": [
      "whats up DOC\n"
     ]
    }
   ],
   "source": [
    "if response.status_code==200:\n",
    "    print('whats up', response.text[2:5])"
   ]
  },
  {
   "cell_type": "code",
   "execution_count": 5,
   "metadata": {},
   "outputs": [],
   "source": [
    "soup = BeautifulSoup(response.content,'lxml')"
   ]
  },
  {
   "cell_type": "code",
   "execution_count": 6,
   "metadata": {},
   "outputs": [
    {
     "data": {
      "text/plain": [
       "'\\nsamps . . \\n\\n<div class=\"container__09f24__mpR8_ hoverable__09f24__wQ_on margin-t3__09f24__riq4X margin-b3__09f24__l9v5d padding-t3__09f24__TMrIW padding-r3__09f24__eaF7p padding-b3__09f24__S8R2d padding-l3__09f24__IOjKY border--top__09f24__exYYb border--right__09f24__X7Tln border--bottom__09f24___mg5X border--left__09f24__DMOkM border-color--default__09f24__NPAKY\"><div class=\"border-color--default__09f24__NPAKY\"><div class=\"arrange__09f24__LDfbs border-color--default__09f24__NPAKY\"><div class=\"arrange-unit__09f24__rqHTg border-color--default__09f24__NPAKY\"><div class=\"border-color--default__09f24__NPAKY\"><div aria-hidden=\"false\" class=\"display--inline-block__09f24__fEDiJ margin-r3__09f24__ppHm0 border-color--default__09f24__NPAKY\"><div class=\"border-color--default__09f24__NPAKY\"><div class=\"container__09f24__YV7E9 dontTriggerCardClick__09f24__nH1kt container--responsive__09f24__XLaFb container--serpia--responsive__09f24__FxSlE border-color--default__09f24__NPAKY\" data-lcp-target-id=\"SCROLLABLE_PHOTO_BOX\" data-slidenum=\"0\"><div aria-label=\"Slideshow\" class=\"container__09f24__F5mIe border-color--default__09f24__NPAKY\"><div class=\"child__09f24__EJUma border-color--default__09f24__NPAKY\" style=\"transition:transform 150ms ease-in-out\"><div class=\"css-0 border-color--default__09f24__NPAKY\"><a class=\"css-1sie4w0\" href=\"/biz/sweet-mandy-bs-chicago\" target=\"_self\"><img alt=\"Sweet Mandy B’s\" class=\"css-xlzvdl\" draggable=\"true\" height=\"100%\" loading=\"auto\" src=\"https://s3-media0.fl.yelpcdn.com/bphoto/aYs6OYDmyCycJkhB__y8AA/348s.jpg\" srcset=\"https://s3-media0.fl.yelpcdn.com/bphoto/aYs6OYDmyCycJkhB__y8AA/1000s.jpg 2.87x\" width=\"100%\"/></a></div></div><div aria-label=\"Previous\" class=\"button__09f24__cv9K6 left__09f24__vKG0L disabled__09f24__scNU0 border-color--default__09f24__NPAKY\" role=\"button\" tabindex=\"0\"><span alt=\"\" aria-hidden=\"true\" class=\"icon--24-chevron-left-v2 css-ije6j5\" role=\"img\"><svg class=\"icon_svg\" height=\"24\" width=\"24\"><path d=\"M14.25 17.58a1 1 0 01-.71-.3L9 12.7a1 1 0 010-1.4l4.5-4.58A1 1 0 0115 6.7a1 1 0 010 1.42L11.15 12 15 15.88a1 1 0 010 1.42 1 1 0 01-.75.28z\"></path></svg></span></div><div aria-label=\"Next\" class=\"button__09f24__cv9K6 right__09f24__BYqEH disabled__09f24__scNU0 border-color--default__09f24__NPAKY\" role=\"button\" tabindex=\"0\"><span alt=\"\" aria-hidden=\"true\" class=\"icon--24-chevron-right-v2 css-ije6j5\" role=\"img\"><svg class=\"icon_svg\" height=\"24\" width=\"24\"><path d=\"M9.75 17.58a1 1 0 01-.7-.28 1 1 0 010-1.42l3.8-3.88L9 8.12a1 1 0 111.41-1.42L15 11.3a1 1 0 010 1.4l-4.5 4.58a1 1 0 01-.75.3z\"></path></svg></span></div></div></div></div></div></div></div><div class=\"arrange-unit__09f24__rqHTg arrange-unit-fill__09f24__CUubG border-color--default__09f24__NPAKY\"><div class=\"border-color--default__09f24__NPAKY\"><div class=\"border-color--default__09f24__NPAKY\"><div class=\"border-color--default__09f24__NPAKY\"><div aria-hidden=\"false\" class=\"businessName__09f24__EYSZE display--inline-block__09f24__fEDiJ border-color--default__09f24__NPAKY\"><div class=\"border-color--default__09f24__NPAKY\"><h3 class=\"css-kagwww\"><span class=\"css-1egxyvc\" data-font-weight=\"bold\">1<!-- -->. <a class=\"css-1m051bw\" href=\"/biz/sweet-mandy-bs-chicago\" name=\"Sweet Mandy B’s\">Sweet Mandy B’s</a></span></h3></div></div></div><div class=\"border-color--default__09f24__NPAKY\"><div aria-hidden=\"false\" class=\"display--inline-block__09f24__fEDiJ border-color--default__09f24__NPAKY\"><div class=\"border-color--default__09f24__NPAKY\"><div class=\"attribute__09f24__hqUj7 display--inline-block__09f24__fEDiJ margin-r1__09f24__rN_ga border-color--default__09f24__NPAKY\"><span class=\"display--inline__09f24__c6N_k border-color--default__09f24__NPAKY\"><div aria-label=\"4.5 star rating\" class=\"i-stars__09f24__M1AR7 i-stars--regular-4-half__09f24__wuUkO border-color--default__09f24__NPAKY overflow--hidden__09f24___ayzG\" role=\"img\"><img alt=\"\" class=\"offscreen__09f24__gZT9P\" height=\"560\" src=\"https://s3-media0.fl.yelpcdn.com/assets/public/stars_v2.yji-59bbc2cf8e3d4be04fcc.png\" width=\"132\"/></div></span></div><div class=\"attribute__09f24__hqUj7 display--inline-block__09f24__fEDiJ border-color--default__09f24__NPAKY\"><span class=\"reviewCount__09f24__tnBk4 css-chan6m\">1662</span></div></div></div></div><div class=\"border-color--default__09f24__NPAKY\"><div aria-hidden=\"false\" class=\"priceCategory__09f24__svarC iaPriceCategory__09f24__GPx_c display--inline-block__09f24__fEDiJ margin-t1__09f24__w96jn border-color--default__09f24__NPAKY\"><div class=\"border-color--default__09f24__NPAKY\"><div class=\"border-color--default__09f24__NPAKY\"><p class=\"css-dzq7l1\"><span class=\"css-epvm6 display--inline__09f24__c6N_k border-color--default__09f24__NPAKY\"><a class=\"css-q7yb35\" href=\"/search?cflt=bakeries&amp;find_loc=Chicago%2C+IL\" role=\"link\"><button class=\"css-r2miy9\" tabindex=\"-1\"><p class=\"css-dd1rsv\">Bakeries</p></button></a><a class=\"css-q7yb35\" href=\"/search?cflt=desserts&amp;find_loc=Chicago%2C+IL\" role=\"link\"><button class=\"css-r2miy9\" tabindex=\"-1\"><p class=\"css-dd1rsv\">Desserts</p></button></a><a class=\"css-q7yb35\" href=\"/search?cflt=cupcakes&amp;find_loc=Chicago%2C+IL\" role=\"link\"><button class=\"css-r2miy9\" tabindex=\"-1\"><p class=\"css-dd1rsv\">Cupcakes</p></button></a></span><span class=\"display--inline__09f24__c6N_k border-color--default__09f24__NPAKY\"><span class=\"priceRange__09f24__mmOuH css-1s7bx9e\">$$</span></span><span class=\"css-chan6m\">DePaul</span></p></div></div></div></div></div><div class=\"border-color--default__09f24__NPAKY\"><div aria-hidden=\"true\" class=\"square__09f24__bHVrQ shimmery__09f24__ZUYWU display--inline-block__09f24__fEDiJ margin-t1__09f24__w96jn border-color--default__09f24__NPAKY\"><div class=\"border-color--default__09f24__NPAKY\"><p class=\"css-qgunke\">This is a placeholder</p></div></div></div></div><div class=\"border-color--default__09f24__NPAKY\"><div aria-hidden=\"false\" class=\"display--inline-block__09f24__fEDiJ margin-t1__09f24__w96jn border-color--default__09f24__NPAKY\"><div class=\"border-color--default__09f24__NPAKY\"><div class=\"snippetTag__09f24__klRwo arrange__09f24__LDfbs border-color--default__09f24__NPAKY\"><div class=\"arrange-unit__09f24__rqHTg border-color--default__09f24__NPAKY\"><div class=\"icon__09f24__QIUIj css-1v994a0 border-color--default__09f24__NPAKY\"><span alt=\"\" aria-hidden=\"true\" class=\"icon--16-speech-v2 css-6a0jil\" role=\"img\"><svg class=\"icon_svg\" height=\"16\" width=\"16\"><path d=\"M5 14.309a.749.749 0 01-.75-.75v-2.45a3.768 3.768 0 01-3-3.667V5.44A3.754 3.754 0 015 1.69h6a3.754 3.754 0 013.75 3.75v2A3.755 3.755 0 0111 11.19H8.924l-3.437 2.938a.75.75 0 01-.487.18zM5 3.191a2.253 2.253 0 00-2.25 2.25v2a2.259 2.259 0 002.215 2.25.792.792 0 01.785.75v1.49l2.41-2.06a.749.749 0 01.487-.18H11a2.253 2.253 0 002.25-2.25v-2A2.253 2.253 0 0011 3.19H5z\"></path></svg></span></div></div><div class=\"arrange-unit__09f24__rqHTg arrange-unit-fill__09f24__CUubG border-color--default__09f24__NPAKY\"><p class=\"css-chan6m\">“Bought a mini Nutella birthday cake...spectacular! Their banana chocolate loaf bread is amazing. This place is my new \"go-to\" <span class=\"css-1egxyvc\" data-font-weight=\"bold\">bakery</span>.”<span class=\"css-1wayfxy\" data-font-weight=\"semibold\"> <a class=\"css-1um3nx\" href=\"/biz/sweet-mandy-bs-chicago?hrid=7HQ2XnMLusODGSL09FRl8w\">more</a></span></p></div></div></div></div></div><div class=\"border-color--default__09f24__NPAKY\"></div><div class=\"margin-t1-5__09f24__nx2jL border-color--default__09f24__NPAKY\"><div class=\"css-dojgf2 margin-b2__09f24__CEMjT border-color--default__09f24__NPAKY background-color--gray-light__09f24__IdQhq\"></div><div class=\"css-4kbcid arrange__09f24__LDfbs gutter-1__09f24__yAbCL vertical-align-middle__09f24__zU9sE border-color--default__09f24__NPAKY\"><div class=\"arrange-unit__09f24__rqHTg arrange-unit-fill__09f24__CUubG border-color--default__09f24__NPAKY\"><div class=\"border-color--default__09f24__NPAKY\"><div aria-hidden=\"false\" class=\"display--inline-block__09f24__fEDiJ border-color--default__09f24__NPAKY\"><div class=\"border-color--default__09f24__NPAKY\"><ul class=\"undefined list__09f24__ynIEd\"><li class=\"border-color--default__09f24__NPAKY\"><div class=\"border-color--default__09f24__NPAKY\" data-testid=\"TRUSTED_PROPERTY\"><div class=\"tag__09f24__mjBHZ css-1v994a0 margin-t0-5__09f24__gboxT border-color--default__09f24__NPAKY\"><div class=\"icon__09f24__a1_rF css-1v994a0 border-color--default__09f24__NPAKY\"><span alt=\"\" aria-hidden=\"true\" class=\"icon--16-checkmark-v2 css-lcqz66\" role=\"img\"><svg class=\"icon_svg\" height=\"16\" width=\"16\"><path d=\"M6.308 11.763a.748.748 0 01-.53-.22l-2.641-2.64a.75.75 0 011.06-1.061l2.11 2.11 5.496-5.495a.75.75 0 111.06 1.06l-6.025 6.026a.748.748 0 01-.53.22z\"></path></svg></span></div><span class=\"label__09f24__hNq6C display--inline__09f24__c6N_k border-color--default__09f24__NPAKY\"><p class=\"tagText__09f24__ArEfy iaTagText__09f24__Gv1CO css-1oibaro\" data-font-weight=\"semibold\"><span class=\"raw__09f24__T4Ezm\">Delivery</span></p></span></div><div class=\"tag__09f24__mjBHZ css-1v994a0 margin-t0-5__09f24__gboxT border-color--default__09f24__NPAKY\"><div class=\"icon__09f24__a1_rF css-1v994a0 border-color--default__09f24__NPAKY\"><span alt=\"\" aria-hidden=\"true\" class=\"icon--16-checkmark-v2 css-lcqz66\" role=\"img\"><svg class=\"icon_svg\" height=\"16\" width=\"16\"><path d=\"M6.308 11.763a.748.748 0 01-.53-.22l-2.641-2.64a.75.75 0 011.06-1.061l2.11 2.11 5.496-5.495a.75.75 0 111.06 1.06l-6.025 6.026a.748.748 0 01-.53.22z\"></path></svg></span></div><span class=\"label__09f24__hNq6C display--inline__09f24__c6N_k border-color--default__09f24__NPAKY\"><p class=\"tagText__09f24__ArEfy iaTagText__09f24__Gv1CO css-1oibaro\" data-font-weight=\"semibold\"><span class=\"raw__09f24__T4Ezm\">Takeout</span></p></span></div></div></li></ul></div></div></div></div></div></div></div></div></div></div>\\n<div class=\"container__09f24__YV7E9 dontTriggerCardClick__09f24__nH1kt container--responsive__09f24__XLaFb container--serpia--responsive__09f24__FxSlE border-color--default__09f24__NPAKY\" data-lcp-target-id=\"SCROLLABLE_PHOTO_BOX\" data-slidenum=\"0\"><div aria-label=\"Slideshow\" class=\"container__09f24__F5mIe border-color--default__09f24__NPAKY\"><div class=\"child__09f24__EJUma border-color--default__09f24__NPAKY\" style=\"transition:transform 150ms ease-in-out\"><div class=\"css-0 border-color--default__09f24__NPAKY\"><a class=\"css-1sie4w0\" href=\"/biz/sweet-mandy-bs-chicago\" target=\"_self\"><img alt=\"Sweet Mandy B’s\" class=\"css-xlzvdl\" draggable=\"true\" height=\"100%\" loading=\"auto\" src=\"https://s3-media0.fl.yelpcdn.com/bphoto/aYs6OYDmyCycJkhB__y8AA/348s.jpg\" srcset=\"https://s3-media0.fl.yelpcdn.com/bphoto/aYs6OYDmyCycJkhB__y8AA/1000s.jpg 2.87x\" width=\"100%\"/></a></div></div><div aria-label=\"Previous\" class=\"button__09f24__cv9K6 left__09f24__vKG0L disabled__09f24__scNU0 border-color--default__09f24__NPAKY\" role=\"button\" tabindex=\"0\"><span alt=\"\" aria-hidden=\"true\" class=\"icon--24-chevron-left-v2 css-ije6j5\" role=\"img\"><svg class=\"icon_svg\" height=\"24\" width=\"24\"><path d=\"M14.25 17.58a1 1 0 01-.71-.3L9 12.7a1 1 0 010-1.4l4.5-4.58A1 1 0 0115 6.7a1 1 0 010 1.42L11.15 12 15 15.88a1 1 0 010 1.42 1 1 0 01-.75.28z\"></path></svg></span></div><div aria-label=\"Next\" class=\"button__09f24__cv9K6 right__09f24__BYqEH disabled__09f24__scNU0 border-color--default__09f24__NPAKY\" role=\"button\" tabindex=\"0\"><span alt=\"\" aria-hidden=\"true\" class=\"icon--24-chevron-right-v2 css-ije6j5\" role=\"img\"><svg class=\"icon_svg\" height=\"24\" width=\"24\"><path d=\"M9.75 17.58a1 1 0 01-.7-.28 1 1 0 010-1.42l3.8-3.88L9 8.12a1 1 0 111.41-1.42L15 11.3a1 1 0 010 1.4l-4.5 4.58a1 1 0 01-.75.3z\"></path></svg></span></div></div></div>\\n'"
      ]
     },
     "execution_count": 6,
     "metadata": {},
     "output_type": "execute_result"
    }
   ],
   "source": [
    "\"\"\"\n",
    "samps . . \n",
    "\n",
    "<div class=\"container__09f24__mpR8_ hoverable__09f24__wQ_on margin-t3__09f24__riq4X margin-b3__09f24__l9v5d padding-t3__09f24__TMrIW padding-r3__09f24__eaF7p padding-b3__09f24__S8R2d padding-l3__09f24__IOjKY border--top__09f24__exYYb border--right__09f24__X7Tln border--bottom__09f24___mg5X border--left__09f24__DMOkM border-color--default__09f24__NPAKY\"><div class=\"border-color--default__09f24__NPAKY\"><div class=\"arrange__09f24__LDfbs border-color--default__09f24__NPAKY\"><div class=\"arrange-unit__09f24__rqHTg border-color--default__09f24__NPAKY\"><div class=\"border-color--default__09f24__NPAKY\"><div aria-hidden=\"false\" class=\"display--inline-block__09f24__fEDiJ margin-r3__09f24__ppHm0 border-color--default__09f24__NPAKY\"><div class=\"border-color--default__09f24__NPAKY\"><div class=\"container__09f24__YV7E9 dontTriggerCardClick__09f24__nH1kt container--responsive__09f24__XLaFb container--serpia--responsive__09f24__FxSlE border-color--default__09f24__NPAKY\" data-lcp-target-id=\"SCROLLABLE_PHOTO_BOX\" data-slidenum=\"0\"><div aria-label=\"Slideshow\" class=\"container__09f24__F5mIe border-color--default__09f24__NPAKY\"><div class=\"child__09f24__EJUma border-color--default__09f24__NPAKY\" style=\"transition:transform 150ms ease-in-out\"><div class=\"css-0 border-color--default__09f24__NPAKY\"><a class=\"css-1sie4w0\" href=\"/biz/sweet-mandy-bs-chicago\" target=\"_self\"><img alt=\"Sweet Mandy B’s\" class=\"css-xlzvdl\" draggable=\"true\" height=\"100%\" loading=\"auto\" src=\"https://s3-media0.fl.yelpcdn.com/bphoto/aYs6OYDmyCycJkhB__y8AA/348s.jpg\" srcset=\"https://s3-media0.fl.yelpcdn.com/bphoto/aYs6OYDmyCycJkhB__y8AA/1000s.jpg 2.87x\" width=\"100%\"/></a></div></div><div aria-label=\"Previous\" class=\"button__09f24__cv9K6 left__09f24__vKG0L disabled__09f24__scNU0 border-color--default__09f24__NPAKY\" role=\"button\" tabindex=\"0\"><span alt=\"\" aria-hidden=\"true\" class=\"icon--24-chevron-left-v2 css-ije6j5\" role=\"img\"><svg class=\"icon_svg\" height=\"24\" width=\"24\"><path d=\"M14.25 17.58a1 1 0 01-.71-.3L9 12.7a1 1 0 010-1.4l4.5-4.58A1 1 0 0115 6.7a1 1 0 010 1.42L11.15 12 15 15.88a1 1 0 010 1.42 1 1 0 01-.75.28z\"></path></svg></span></div><div aria-label=\"Next\" class=\"button__09f24__cv9K6 right__09f24__BYqEH disabled__09f24__scNU0 border-color--default__09f24__NPAKY\" role=\"button\" tabindex=\"0\"><span alt=\"\" aria-hidden=\"true\" class=\"icon--24-chevron-right-v2 css-ije6j5\" role=\"img\"><svg class=\"icon_svg\" height=\"24\" width=\"24\"><path d=\"M9.75 17.58a1 1 0 01-.7-.28 1 1 0 010-1.42l3.8-3.88L9 8.12a1 1 0 111.41-1.42L15 11.3a1 1 0 010 1.4l-4.5 4.58a1 1 0 01-.75.3z\"></path></svg></span></div></div></div></div></div></div></div><div class=\"arrange-unit__09f24__rqHTg arrange-unit-fill__09f24__CUubG border-color--default__09f24__NPAKY\"><div class=\"border-color--default__09f24__NPAKY\"><div class=\"border-color--default__09f24__NPAKY\"><div class=\"border-color--default__09f24__NPAKY\"><div aria-hidden=\"false\" class=\"businessName__09f24__EYSZE display--inline-block__09f24__fEDiJ border-color--default__09f24__NPAKY\"><div class=\"border-color--default__09f24__NPAKY\"><h3 class=\"css-kagwww\"><span class=\"css-1egxyvc\" data-font-weight=\"bold\">1<!-- -->. <a class=\"css-1m051bw\" href=\"/biz/sweet-mandy-bs-chicago\" name=\"Sweet Mandy B’s\">Sweet Mandy B’s</a></span></h3></div></div></div><div class=\"border-color--default__09f24__NPAKY\"><div aria-hidden=\"false\" class=\"display--inline-block__09f24__fEDiJ border-color--default__09f24__NPAKY\"><div class=\"border-color--default__09f24__NPAKY\"><div class=\"attribute__09f24__hqUj7 display--inline-block__09f24__fEDiJ margin-r1__09f24__rN_ga border-color--default__09f24__NPAKY\"><span class=\"display--inline__09f24__c6N_k border-color--default__09f24__NPAKY\"><div aria-label=\"4.5 star rating\" class=\"i-stars__09f24__M1AR7 i-stars--regular-4-half__09f24__wuUkO border-color--default__09f24__NPAKY overflow--hidden__09f24___ayzG\" role=\"img\"><img alt=\"\" class=\"offscreen__09f24__gZT9P\" height=\"560\" src=\"https://s3-media0.fl.yelpcdn.com/assets/public/stars_v2.yji-59bbc2cf8e3d4be04fcc.png\" width=\"132\"/></div></span></div><div class=\"attribute__09f24__hqUj7 display--inline-block__09f24__fEDiJ border-color--default__09f24__NPAKY\"><span class=\"reviewCount__09f24__tnBk4 css-chan6m\">1662</span></div></div></div></div><div class=\"border-color--default__09f24__NPAKY\"><div aria-hidden=\"false\" class=\"priceCategory__09f24__svarC iaPriceCategory__09f24__GPx_c display--inline-block__09f24__fEDiJ margin-t1__09f24__w96jn border-color--default__09f24__NPAKY\"><div class=\"border-color--default__09f24__NPAKY\"><div class=\"border-color--default__09f24__NPAKY\"><p class=\"css-dzq7l1\"><span class=\"css-epvm6 display--inline__09f24__c6N_k border-color--default__09f24__NPAKY\"><a class=\"css-q7yb35\" href=\"/search?cflt=bakeries&amp;find_loc=Chicago%2C+IL\" role=\"link\"><button class=\"css-r2miy9\" tabindex=\"-1\"><p class=\"css-dd1rsv\">Bakeries</p></button></a><a class=\"css-q7yb35\" href=\"/search?cflt=desserts&amp;find_loc=Chicago%2C+IL\" role=\"link\"><button class=\"css-r2miy9\" tabindex=\"-1\"><p class=\"css-dd1rsv\">Desserts</p></button></a><a class=\"css-q7yb35\" href=\"/search?cflt=cupcakes&amp;find_loc=Chicago%2C+IL\" role=\"link\"><button class=\"css-r2miy9\" tabindex=\"-1\"><p class=\"css-dd1rsv\">Cupcakes</p></button></a></span><span class=\"display--inline__09f24__c6N_k border-color--default__09f24__NPAKY\"><span class=\"priceRange__09f24__mmOuH css-1s7bx9e\">$$</span></span><span class=\"css-chan6m\">DePaul</span></p></div></div></div></div></div><div class=\"border-color--default__09f24__NPAKY\"><div aria-hidden=\"true\" class=\"square__09f24__bHVrQ shimmery__09f24__ZUYWU display--inline-block__09f24__fEDiJ margin-t1__09f24__w96jn border-color--default__09f24__NPAKY\"><div class=\"border-color--default__09f24__NPAKY\"><p class=\"css-qgunke\">This is a placeholder</p></div></div></div></div><div class=\"border-color--default__09f24__NPAKY\"><div aria-hidden=\"false\" class=\"display--inline-block__09f24__fEDiJ margin-t1__09f24__w96jn border-color--default__09f24__NPAKY\"><div class=\"border-color--default__09f24__NPAKY\"><div class=\"snippetTag__09f24__klRwo arrange__09f24__LDfbs border-color--default__09f24__NPAKY\"><div class=\"arrange-unit__09f24__rqHTg border-color--default__09f24__NPAKY\"><div class=\"icon__09f24__QIUIj css-1v994a0 border-color--default__09f24__NPAKY\"><span alt=\"\" aria-hidden=\"true\" class=\"icon--16-speech-v2 css-6a0jil\" role=\"img\"><svg class=\"icon_svg\" height=\"16\" width=\"16\"><path d=\"M5 14.309a.749.749 0 01-.75-.75v-2.45a3.768 3.768 0 01-3-3.667V5.44A3.754 3.754 0 015 1.69h6a3.754 3.754 0 013.75 3.75v2A3.755 3.755 0 0111 11.19H8.924l-3.437 2.938a.75.75 0 01-.487.18zM5 3.191a2.253 2.253 0 00-2.25 2.25v2a2.259 2.259 0 002.215 2.25.792.792 0 01.785.75v1.49l2.41-2.06a.749.749 0 01.487-.18H11a2.253 2.253 0 002.25-2.25v-2A2.253 2.253 0 0011 3.19H5z\"></path></svg></span></div></div><div class=\"arrange-unit__09f24__rqHTg arrange-unit-fill__09f24__CUubG border-color--default__09f24__NPAKY\"><p class=\"css-chan6m\">“Bought a mini Nutella birthday cake...spectacular! Their banana chocolate loaf bread is amazing. This place is my new \"go-to\" <span class=\"css-1egxyvc\" data-font-weight=\"bold\">bakery</span>.”<span class=\"css-1wayfxy\" data-font-weight=\"semibold\"> <a class=\"css-1um3nx\" href=\"/biz/sweet-mandy-bs-chicago?hrid=7HQ2XnMLusODGSL09FRl8w\">more</a></span></p></div></div></div></div></div><div class=\"border-color--default__09f24__NPAKY\"></div><div class=\"margin-t1-5__09f24__nx2jL border-color--default__09f24__NPAKY\"><div class=\"css-dojgf2 margin-b2__09f24__CEMjT border-color--default__09f24__NPAKY background-color--gray-light__09f24__IdQhq\"></div><div class=\"css-4kbcid arrange__09f24__LDfbs gutter-1__09f24__yAbCL vertical-align-middle__09f24__zU9sE border-color--default__09f24__NPAKY\"><div class=\"arrange-unit__09f24__rqHTg arrange-unit-fill__09f24__CUubG border-color--default__09f24__NPAKY\"><div class=\"border-color--default__09f24__NPAKY\"><div aria-hidden=\"false\" class=\"display--inline-block__09f24__fEDiJ border-color--default__09f24__NPAKY\"><div class=\"border-color--default__09f24__NPAKY\"><ul class=\"undefined list__09f24__ynIEd\"><li class=\"border-color--default__09f24__NPAKY\"><div class=\"border-color--default__09f24__NPAKY\" data-testid=\"TRUSTED_PROPERTY\"><div class=\"tag__09f24__mjBHZ css-1v994a0 margin-t0-5__09f24__gboxT border-color--default__09f24__NPAKY\"><div class=\"icon__09f24__a1_rF css-1v994a0 border-color--default__09f24__NPAKY\"><span alt=\"\" aria-hidden=\"true\" class=\"icon--16-checkmark-v2 css-lcqz66\" role=\"img\"><svg class=\"icon_svg\" height=\"16\" width=\"16\"><path d=\"M6.308 11.763a.748.748 0 01-.53-.22l-2.641-2.64a.75.75 0 011.06-1.061l2.11 2.11 5.496-5.495a.75.75 0 111.06 1.06l-6.025 6.026a.748.748 0 01-.53.22z\"></path></svg></span></div><span class=\"label__09f24__hNq6C display--inline__09f24__c6N_k border-color--default__09f24__NPAKY\"><p class=\"tagText__09f24__ArEfy iaTagText__09f24__Gv1CO css-1oibaro\" data-font-weight=\"semibold\"><span class=\"raw__09f24__T4Ezm\">Delivery</span></p></span></div><div class=\"tag__09f24__mjBHZ css-1v994a0 margin-t0-5__09f24__gboxT border-color--default__09f24__NPAKY\"><div class=\"icon__09f24__a1_rF css-1v994a0 border-color--default__09f24__NPAKY\"><span alt=\"\" aria-hidden=\"true\" class=\"icon--16-checkmark-v2 css-lcqz66\" role=\"img\"><svg class=\"icon_svg\" height=\"16\" width=\"16\"><path d=\"M6.308 11.763a.748.748 0 01-.53-.22l-2.641-2.64a.75.75 0 011.06-1.061l2.11 2.11 5.496-5.495a.75.75 0 111.06 1.06l-6.025 6.026a.748.748 0 01-.53.22z\"></path></svg></span></div><span class=\"label__09f24__hNq6C display--inline__09f24__c6N_k border-color--default__09f24__NPAKY\"><p class=\"tagText__09f24__ArEfy iaTagText__09f24__Gv1CO css-1oibaro\" data-font-weight=\"semibold\"><span class=\"raw__09f24__T4Ezm\">Takeout</span></p></span></div></div></li></ul></div></div></div></div></div></div></div></div></div></div>\n",
    "<div class=\"container__09f24__YV7E9 dontTriggerCardClick__09f24__nH1kt container--responsive__09f24__XLaFb container--serpia--responsive__09f24__FxSlE border-color--default__09f24__NPAKY\" data-lcp-target-id=\"SCROLLABLE_PHOTO_BOX\" data-slidenum=\"0\"><div aria-label=\"Slideshow\" class=\"container__09f24__F5mIe border-color--default__09f24__NPAKY\"><div class=\"child__09f24__EJUma border-color--default__09f24__NPAKY\" style=\"transition:transform 150ms ease-in-out\"><div class=\"css-0 border-color--default__09f24__NPAKY\"><a class=\"css-1sie4w0\" href=\"/biz/sweet-mandy-bs-chicago\" target=\"_self\"><img alt=\"Sweet Mandy B’s\" class=\"css-xlzvdl\" draggable=\"true\" height=\"100%\" loading=\"auto\" src=\"https://s3-media0.fl.yelpcdn.com/bphoto/aYs6OYDmyCycJkhB__y8AA/348s.jpg\" srcset=\"https://s3-media0.fl.yelpcdn.com/bphoto/aYs6OYDmyCycJkhB__y8AA/1000s.jpg 2.87x\" width=\"100%\"/></a></div></div><div aria-label=\"Previous\" class=\"button__09f24__cv9K6 left__09f24__vKG0L disabled__09f24__scNU0 border-color--default__09f24__NPAKY\" role=\"button\" tabindex=\"0\"><span alt=\"\" aria-hidden=\"true\" class=\"icon--24-chevron-left-v2 css-ije6j5\" role=\"img\"><svg class=\"icon_svg\" height=\"24\" width=\"24\"><path d=\"M14.25 17.58a1 1 0 01-.71-.3L9 12.7a1 1 0 010-1.4l4.5-4.58A1 1 0 0115 6.7a1 1 0 010 1.42L11.15 12 15 15.88a1 1 0 010 1.42 1 1 0 01-.75.28z\"></path></svg></span></div><div aria-label=\"Next\" class=\"button__09f24__cv9K6 right__09f24__BYqEH disabled__09f24__scNU0 border-color--default__09f24__NPAKY\" role=\"button\" tabindex=\"0\"><span alt=\"\" aria-hidden=\"true\" class=\"icon--24-chevron-right-v2 css-ije6j5\" role=\"img\"><svg class=\"icon_svg\" height=\"24\" width=\"24\"><path d=\"M9.75 17.58a1 1 0 01-.7-.28 1 1 0 010-1.42l3.8-3.88L9 8.12a1 1 0 111.41-1.42L15 11.3a1 1 0 010 1.4l-4.5 4.58a1 1 0 01-.75.3z\"></path></svg></span></div></div></div>\n",
    "\"\"\""
   ]
  },
  {
   "cell_type": "code",
   "execution_count": 7,
   "metadata": {},
   "outputs": [
    {
     "name": "stdout",
     "output_type": "stream",
     "text": [
      "\"Hendrickx Belgian Bread Crafter\"\n",
      "\"Good Ambler\"\n",
      "\"La Fournette\"\n",
      "\"Aya Pastry\"\n",
      "\"Goddess and Grocer\"\n",
      "\"Goddess and The Baker\"\n",
      "\"Ground Up\"\n",
      "\"L.A. Burdick Handmade Chocolates\"\n",
      "\"Bad Owl Coffee Roasters\"\n",
      "\"Tous Les Jours\"\n",
      "\"\"\n",
      "\"\"\n",
      "\"\"\n"
     ]
    }
   ],
   "source": [
    "# ego boost\n",
    "\n",
    "for item in soup.select('[class*=css-xlzvdl]'): # seeing review among '[class*=css-chan6m]'\n",
    "    try:\n",
    "        print(str(item)[len('img alt=\"'):len('img alt=\"')+50].split(\"class\")[0][:-1])\n",
    "    except Exception as e:\n",
    "        raise e\n",
    "        print('')\n",
    "        \n",
    "# syntax   : ('[class*=css-xlzvdl]')\n",
    "# review   : css-chan6m\n",
    "# biz name : css-xlzvdl"
   ]
  },
  {
   "cell_type": "code",
   "execution_count": 8,
   "metadata": {},
   "outputs": [],
   "source": [
    "string_lengths = []\n",
    "\n",
    "for item in soup.select('[class*=css-chan6m]'): # seeing review among '[class*=css-chan6m]'\n",
    "    try:\n",
    "        string_lengths.append(len(str(item)))\n",
    "    except Exception as e:\n",
    "        raise e\n",
    "        print('')"
   ]
  },
  {
   "cell_type": "code",
   "execution_count": 9,
   "metadata": {},
   "outputs": [
    {
     "data": {
      "text/plain": [
       "171.91666666666666"
      ]
     },
     "execution_count": 9,
     "metadata": {},
     "output_type": "execute_result"
    }
   ],
   "source": [
    "mean = sum(string_lengths)/len(string_lengths)\n",
    "mean"
   ]
  },
  {
   "cell_type": "code",
   "execution_count": 10,
   "metadata": {},
   "outputs": [],
   "source": [
    "xi_minus_xbars_squareds = []\n",
    "\n",
    "for elmt in string_lengths:\n",
    "    xi_minus_xbars_squareds.append(elmt-mean)"
   ]
  },
  {
   "cell_type": "code",
   "execution_count": 11,
   "metadata": {},
   "outputs": [
    {
     "data": {
      "text/plain": [
       "2.598556290779795e-14"
      ]
     },
     "execution_count": 11,
     "metadata": {},
     "output_type": "execute_result"
    }
   ],
   "source": [
    "sd = sum(xi_minus_xbars_squareds)/(len(xi_minus_xbars_squareds) - 1)\n",
    "sd"
   ]
  },
  {
   "cell_type": "code",
   "execution_count": 12,
   "metadata": {},
   "outputs": [],
   "source": [
    "reviews = {}\n",
    "\n",
    "for item in soup.select('[class*=css-chan6m]'): # seeing review among '[class*=css-chan6m]'\n",
    "    item = str(item)\n",
    "    if \"css-chan6m\" in item and \"css-1wayfxy\" in item and len(item) > (mean+3*sd):\n",
    "        try:\n",
    "            dirty_review = item[len('<p class=\"css-chan6m\">“'):item.find('<span class=\"css-1wayfxy\"')]\n",
    "            bakery_name = item[item.find('ref=\"/biz/')+len('ref=\"/biz/'):item.find('-chicago')].replace(\"-\", \" \")\n",
    "            if bakery_name not in reviews.keys():\n",
    "                reviews[bakery_name] = dirty_review\n",
    "        except Exception as e:\n",
    "            raise e\n",
    "            print('')"
   ]
  },
  {
   "cell_type": "code",
   "execution_count": 17,
   "metadata": {},
   "outputs": [
    {
     "name": "stdout",
     "output_type": "stream",
     "text": [
      "hendrickx belgian bread crafter : The almond chocolate <span class=\"css-1egxyvc\" data-font-weight=\"bold\">croissant</span> and french country bread were quite authentic and wonderfully rustic.”\n",
      "\n",
      "good ambler : minutes. - Ham and cheese <span class=\"css-1egxyvc\" data-font-weight=\"bold\">croissant</span>: <span class=\"css-1egxyvc\" data-font-weight=\"bold\">croissant</span> was super flaky and the sesame seeds were a nice touch”\n",
      "\n",
      "la fournette : Amazing chocolate <span class=\"css-1egxyvc\" data-font-weight=\"bold\">croissant</span>, crouque monsieur, and french baguette. The macaroons were special too.”\n",
      "\n",
      "aya pastry : I tried the Samoa Cake / Almond <span class=\"css-1egxyvc\" data-font-weight=\"bold\">Croissant</span> / Orange Phyllo Cake Samoa was moist and decadent. Almond”\n",
      "\n",
      "goddess and grocer : looking inventory. We came for breakfast and I got the chai latte with oat milk and the <span class=\"css-1egxyvc\" data-font-weight=\"bold\">croissant</span> sandwich. Fresh and yummy!”\n",
      "\n",
      "goddess and the baker : ordered an iced caramel cookie butter latte ($4.99) and a turkey, bacon, &amp; egg <span class=\"css-1egxyvc\" data-font-weight=\"bold\">croissant</span> ($10.99”\n",
      "\n",
      "ground up : namely the almond <span class=\"css-1egxyvc\" data-font-weight=\"bold\">croissant</span>. As far as coffee go, I prefer their espresso, and cold brew the most.”\n",
      "\n",
      "l a burdick handmade chocolates : <span class=\"css-1egxyvc\" data-font-weight=\"bold\">croissants</span> - as good as they get outside of Paris!! It's a Tiny gem in River north - you must try!”\n",
      "\n",
      "bad owl coffee roasters : again. The <span class=\"css-1egxyvc\" data-font-weight=\"bold\">croissants</span>, scones, and banana cold brew latte were all amazing. Highly recommend.”\n",
      "\n",
      "tous les jours : <span class=\"css-1egxyvc\" data-font-weight=\"bold\">croissant</span>, caramel apple pies, Yuzu pies, and the hotdog pastries.”\n",
      "\n"
     ]
    }
   ],
   "source": [
    "for name, review in reviews.items():\n",
    "    print(name + \" : \" + review + \"\\n\")"
   ]
  },
  {
   "cell_type": "code",
   "execution_count": null,
   "metadata": {},
   "outputs": [],
   "source": []
  }
 ],
 "metadata": {
  "kernelspec": {
   "display_name": "Python 3",
   "language": "python",
   "name": "python3"
  },
  "language_info": {
   "codemirror_mode": {
    "name": "ipython",
    "version": 3
   },
   "file_extension": ".py",
   "mimetype": "text/x-python",
   "name": "python",
   "nbconvert_exporter": "python",
   "pygments_lexer": "ipython3",
   "version": "3.7.4"
  }
 },
 "nbformat": 4,
 "nbformat_minor": 2
}
