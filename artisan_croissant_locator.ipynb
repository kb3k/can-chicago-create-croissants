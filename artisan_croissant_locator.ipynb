{
 "cells": [
  {
   "cell_type": "code",
   "execution_count": 1,
   "metadata": {},
   "outputs": [],
   "source": [
    "# waut\n",
    "\n",
    "# https://www.freecodecamp.org/news/how-to-scrape-websites-with-python-and-beautifulsoup-5946935d93fe/\n",
    "# https://codeburst.io/web-scraping-101-with-python-beautiful-soup-bb617be1f486\n",
    "\n",
    "# syntax   : ('[class*=css-xlzvdl]')\n",
    "# review   : css-chan6m\n",
    "# biz name : css-xlzvdl"
   ]
  },
  {
   "cell_type": "code",
   "execution_count": 2,
   "metadata": {},
   "outputs": [],
   "source": [
    "import pandas as pd\n",
    "import requests\n",
    "import time\n",
    "from selenium import webdriver\n",
    "from bs4 import BeautifulSoup"
   ]
  },
  {
   "cell_type": "code",
   "execution_count": 3,
   "metadata": {},
   "outputs": [],
   "source": [
    "earl = \"https://www.yelp.com/search?&find_loc=Chicago%2C+IL&cflt=bakeries\" #jk\n",
    "earl = \"https://www.yelp.com/search?find_desc=croissant&find_loc=Chicago%2C+IL+60608&ns=1\"\n",
    "response = requests.get(earl)"
   ]
  },
  {
   "cell_type": "code",
   "execution_count": 4,
   "metadata": {},
   "outputs": [
    {
     "name": "stdout",
     "output_type": "stream",
     "text": [
      "whats up DOC\n"
     ]
    }
   ],
   "source": [
    "if response.status_code==200:\n",
    "    print('whats up', response.text[2:5])"
   ]
  },
  {
   "cell_type": "code",
   "execution_count": 5,
   "metadata": {},
   "outputs": [],
   "source": [
    "soup = BeautifulSoup(response.content,'lxml')"
   ]
  },
  {
   "cell_type": "code",
   "execution_count": 7,
   "metadata": {},
   "outputs": [
    {
     "name": "stdout",
     "output_type": "stream",
     "text": [
      "\"Hendrickx Belgian Bread Crafter\"\n",
      "\"Good Ambler\"\n",
      "\"La Fournette\"\n",
      "\"Aya Pastry\"\n",
      "\"Goddess and Grocer\"\n",
      "\"Goddess and The Baker\"\n",
      "\"Ground Up\"\n",
      "\"L.A. Burdick Handmade Chocolates\"\n",
      "\"Bad Owl Coffee Roasters\"\n",
      "\"Tous Les Jours\"\n",
      "\"\"\n",
      "\"\"\n",
      "\"\"\n"
     ]
    }
   ],
   "source": [
    "# ego boost\n",
    "\n",
    "for item in soup.select('[class*=css-xlzvdl]'): # seeing review among '[class*=css-chan6m]'\n",
    "    try:\n",
    "        print(str(item)[len('img alt=\"'):len('img alt=\"')+50].split(\"class\")[0][:-1])\n",
    "    except Exception as e:\n",
    "        raise e\n",
    "        print('')"
   ]
  },
  {
   "cell_type": "code",
   "execution_count": 8,
   "metadata": {},
   "outputs": [],
   "source": [
    "string_lengths = []\n",
    "\n",
    "for item in soup.select('[class*=css-chan6m]'): # seeing review among '[class*=css-chan6m]'\n",
    "    try:\n",
    "        string_lengths.append(len(str(item)))\n",
    "    except Exception as e:\n",
    "        raise e\n",
    "        print('')"
   ]
  },
  {
   "cell_type": "code",
   "execution_count": 9,
   "metadata": {},
   "outputs": [
    {
     "data": {
      "text/plain": [
       "171.91666666666666"
      ]
     },
     "execution_count": 9,
     "metadata": {},
     "output_type": "execute_result"
    }
   ],
   "source": [
    "mean = sum(string_lengths)/len(string_lengths)\n",
    "mean"
   ]
  },
  {
   "cell_type": "code",
   "execution_count": 10,
   "metadata": {},
   "outputs": [],
   "source": [
    "xi_minus_xbars_squareds = []\n",
    "\n",
    "for elmt in string_lengths:\n",
    "    xi_minus_xbars_squareds.append(elmt-mean)"
   ]
  },
  {
   "cell_type": "code",
   "execution_count": 11,
   "metadata": {},
   "outputs": [
    {
     "data": {
      "text/plain": [
       "2.598556290779795e-14"
      ]
     },
     "execution_count": 11,
     "metadata": {},
     "output_type": "execute_result"
    }
   ],
   "source": [
    "sd = sum(xi_minus_xbars_squareds)/(len(xi_minus_xbars_squareds) - 1)\n",
    "sd"
   ]
  },
  {
   "cell_type": "code",
   "execution_count": 12,
   "metadata": {},
   "outputs": [],
   "source": [
    "reviews = {}\n",
    "\n",
    "for item in soup.select('[class*=css-chan6m]'): # seeing review among '[class*=css-chan6m]'\n",
    "    item = str(item)\n",
    "    if \"css-chan6m\" in item and \"css-1wayfxy\" in item and len(item) > (mean+3*sd):\n",
    "        try:\n",
    "            dirty_review = item[len('<p class=\"css-chan6m\">“'):item.find('<span class=\"css-1wayfxy\"')]\n",
    "            bakery_name = item[item.find('ref=\"/biz/')+len('ref=\"/biz/'):item.find('-chicago')].replace(\"-\", \" \")\n",
    "            if bakery_name not in reviews.keys():\n",
    "                reviews[bakery_name] = dirty_review\n",
    "        except Exception as e:\n",
    "            raise e\n",
    "            print('')"
   ]
  },
  {
   "cell_type": "code",
   "execution_count": 17,
   "metadata": {},
   "outputs": [
    {
     "name": "stdout",
     "output_type": "stream",
     "text": [
      "hendrickx belgian bread crafter : The almond chocolate <span class=\"css-1egxyvc\" data-font-weight=\"bold\">croissant</span> and french country bread were quite authentic and wonderfully rustic.”\n",
      "\n",
      "good ambler : minutes. - Ham and cheese <span class=\"css-1egxyvc\" data-font-weight=\"bold\">croissant</span>: <span class=\"css-1egxyvc\" data-font-weight=\"bold\">croissant</span> was super flaky and the sesame seeds were a nice touch”\n",
      "\n",
      "la fournette : Amazing chocolate <span class=\"css-1egxyvc\" data-font-weight=\"bold\">croissant</span>, crouque monsieur, and french baguette. The macaroons were special too.”\n",
      "\n",
      "aya pastry : I tried the Samoa Cake / Almond <span class=\"css-1egxyvc\" data-font-weight=\"bold\">Croissant</span> / Orange Phyllo Cake Samoa was moist and decadent. Almond”\n",
      "\n",
      "goddess and grocer : looking inventory. We came for breakfast and I got the chai latte with oat milk and the <span class=\"css-1egxyvc\" data-font-weight=\"bold\">croissant</span> sandwich. Fresh and yummy!”\n",
      "\n",
      "goddess and the baker : ordered an iced caramel cookie butter latte ($4.99) and a turkey, bacon, &amp; egg <span class=\"css-1egxyvc\" data-font-weight=\"bold\">croissant</span> ($10.99”\n",
      "\n",
      "ground up : namely the almond <span class=\"css-1egxyvc\" data-font-weight=\"bold\">croissant</span>. As far as coffee go, I prefer their espresso, and cold brew the most.”\n",
      "\n",
      "l a burdick handmade chocolates : <span class=\"css-1egxyvc\" data-font-weight=\"bold\">croissants</span> - as good as they get outside of Paris!! It's a Tiny gem in River north - you must try!”\n",
      "\n",
      "bad owl coffee roasters : again. The <span class=\"css-1egxyvc\" data-font-weight=\"bold\">croissants</span>, scones, and banana cold brew latte were all amazing. Highly recommend.”\n",
      "\n",
      "tous les jours : <span class=\"css-1egxyvc\" data-font-weight=\"bold\">croissant</span>, caramel apple pies, Yuzu pies, and the hotdog pastries.”\n",
      "\n"
     ]
    }
   ],
   "source": [
    "for name, review in reviews.items():\n",
    "    print(name + \" : \" + review + \"\\n\")"
   ]
  },
  {
   "cell_type": "code",
   "execution_count": null,
   "metadata": {},
   "outputs": [],
   "source": []
  }
 ],
 "metadata": {
  "kernelspec": {
   "display_name": "Python 3",
   "language": "python",
   "name": "python3"
  },
  "language_info": {
   "codemirror_mode": {
    "name": "ipython",
    "version": 3
   },
   "file_extension": ".py",
   "mimetype": "text/x-python",
   "name": "python",
   "nbconvert_exporter": "python",
   "pygments_lexer": "ipython3",
   "version": "3.7.4"
  }
 },
 "nbformat": 4,
 "nbformat_minor": 2
}
