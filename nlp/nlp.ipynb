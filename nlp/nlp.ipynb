{
 "cells": [
  {
   "cell_type": "markdown",
   "metadata": {},
   "source": [
    "1. sentiment/semantic analysis on these reviews. classify a bakery as artisan based on the review.\n",
    "\n",
    "https://www.nltk.org/howto/classify.html\n",
    "or https://www.nltk.org/howto/probability.html\n",
    "\n",
    ">>> from nltk.classify import SklearnClassifier\n",
    ">>> from sklearn.naive_bayes import BernoulliNB\n",
    ">>> from sklearn.svm import SVC\n",
    ">>> train_data = [({\"a\": 4, \"b\": 1, \"c\": 0}, \"ham\"),\n",
    "...               ({\"a\": 5, \"b\": 2, \"c\": 1}, \"ham\"),\n",
    "...               ({\"a\": 0, \"b\": 3, \"c\": 4}, \"spam\"),\n",
    "...               ({\"a\": 5, \"b\": 1, \"c\": 1}, \"ham\"),\n",
    "...               ({\"a\": 1, \"b\": 4, \"c\": 3}, \"spam\")]\n",
    ">>> classif = SklearnClassifier(BernoulliNB()).train(train_data)\n",
    ">>> test_data = [{\"a\": 3, \"b\": 2, \"c\": 1},\n",
    "...              {\"a\": 0, \"b\": 3, \"c\": 7}]\n",
    ">>> classif.classify_many(test_data)\n",
    "['ham', 'spam']\n",
    ">>> classif = SklearnClassifier(SVC(), sparse=False).train(train_data)\n",
    ">>> classif.classify_many(test_data)\n",
    "['ham', 'spam']\n",
    "\n"
   ]
  },
  {
   "cell_type": "code",
   "execution_count": 1,
   "metadata": {},
   "outputs": [],
   "source": [
    "import pandas as pd"
   ]
  },
  {
   "cell_type": "code",
   "execution_count": 5,
   "metadata": {},
   "outputs": [],
   "source": [
    "pd.set_option('display.max_rows', None)\n",
    "pd.set_option('display.max_colwidth', None)"
   ]
  },
  {
   "cell_type": "code",
   "execution_count": 6,
   "metadata": {},
   "outputs": [
    {
     "data": {
      "text/html": [
       "<div>\n",
       "<style scoped>\n",
       "    .dataframe tbody tr th:only-of-type {\n",
       "        vertical-align: middle;\n",
       "    }\n",
       "\n",
       "    .dataframe tbody tr th {\n",
       "        vertical-align: top;\n",
       "    }\n",
       "\n",
       "    .dataframe thead th {\n",
       "        text-align: right;\n",
       "    }\n",
       "</style>\n",
       "<table border=\"1\" class=\"dataframe\">\n",
       "  <thead>\n",
       "    <tr style=\"text-align: right;\">\n",
       "      <th></th>\n",
       "      <th>BakeryName</th>\n",
       "      <th>Review</th>\n",
       "      <th>Review_Prepped</th>\n",
       "      <th>Review_Prepped_str</th>\n",
       "      <th>word_count</th>\n",
       "      <th>label</th>\n",
       "    </tr>\n",
       "    <tr>\n",
       "      <th>idx</th>\n",
       "      <th></th>\n",
       "      <th></th>\n",
       "      <th></th>\n",
       "      <th></th>\n",
       "      <th></th>\n",
       "      <th></th>\n",
       "    </tr>\n",
       "  </thead>\n",
       "  <tbody>\n",
       "    <tr>\n",
       "      <th>idx0</th>\n",
       "      <td>hendrickx belgian bread crafter</td>\n",
       "      <td>The almond chocolate croissant and french country bread were quite authentic and wonderfully rustic.”\\n</td>\n",
       "      <td>['almond', 'chocol', 'croissant', 'french', 'countri', 'bread', 'quit', 'authent', 'wonder', 'rustic']</td>\n",
       "      <td>almond chocol croissant french countri bread quit authent wonder rustic</td>\n",
       "      <td>&lt;FreqDist with 10 samples and 10 outcomes&gt;</td>\n",
       "      <td>artisan</td>\n",
       "    </tr>\n",
       "    <tr>\n",
       "      <th>idx1</th>\n",
       "      <td>lost larson bakery</td>\n",
       "      <td>These are the best cinnamon rolls ever. The croissant are also delicious and the service is very efficient”\\n</td>\n",
       "      <td>['best', 'cinnamon', 'roll', 'ever', 'croissant', 'also', 'delici', 'servic', 'effici']</td>\n",
       "      <td>best cinnamon roll ever croissant also delici servic effici</td>\n",
       "      <td>&lt;FreqDist with 9 samples and 9 outcomes&gt;</td>\n",
       "      <td>artisan</td>\n",
       "    </tr>\n",
       "  </tbody>\n",
       "</table>\n",
       "</div>"
      ],
      "text/plain": [
       "                           BakeryName  \\\n",
       "idx                                     \n",
       "idx0  hendrickx belgian bread crafter   \n",
       "idx1               lost larson bakery   \n",
       "\n",
       "                                                                                                             Review  \\\n",
       "idx                                                                                                                   \n",
       "idx0        The almond chocolate croissant and french country bread were quite authentic and wonderfully rustic.”\\n   \n",
       "idx1  These are the best cinnamon rolls ever. The croissant are also delicious and the service is very efficient”\\n   \n",
       "\n",
       "                                                                                              Review_Prepped  \\\n",
       "idx                                                                                                            \n",
       "idx0  ['almond', 'chocol', 'croissant', 'french', 'countri', 'bread', 'quit', 'authent', 'wonder', 'rustic']   \n",
       "idx1                 ['best', 'cinnamon', 'roll', 'ever', 'croissant', 'also', 'delici', 'servic', 'effici']   \n",
       "\n",
       "                                                           Review_Prepped_str  \\\n",
       "idx                                                                             \n",
       "idx0  almond chocol croissant french countri bread quit authent wonder rustic   \n",
       "idx1              best cinnamon roll ever croissant also delici servic effici   \n",
       "\n",
       "                                      word_count    label  \n",
       "idx                                                        \n",
       "idx0  <FreqDist with 10 samples and 10 outcomes>  artisan  \n",
       "idx1    <FreqDist with 9 samples and 9 outcomes>  artisan  "
      ]
     },
     "execution_count": 6,
     "metadata": {},
     "output_type": "execute_result"
    }
   ],
   "source": [
    "df = pd.read_csv(\"labeled_croissants.csv\", index_col=\"idx\")\n",
    "df.head(2)"
   ]
  },
  {
   "cell_type": "code",
   "execution_count": 18,
   "metadata": {},
   "outputs": [],
   "source": [
    "small_df = df[[\"word_count\", \"label\"]]\n",
    "small_df.reset_index(inplace=True)\n",
    "small_df.drop(columns='idx',inplace=True)\n",
    "small_df.set_index('label', inplace=True)"
   ]
  },
  {
   "cell_type": "code",
   "execution_count": 19,
   "metadata": {},
   "outputs": [
    {
     "data": {
      "text/plain": [
       "{'word_count': {'artisan': '<FreqDist with 8 samples and 8 outcomes>',\n",
       "  'not': '<FreqDist with 14 samples and 15 outcomes>',\n",
       "  'maybe': '<FreqDist with 13 samples and 13 outcomes>'}}"
      ]
     },
     "execution_count": 19,
     "metadata": {},
     "output_type": "execute_result"
    }
   ],
   "source": [
    "small_df.to_dict() # no"
   ]
  },
  {
   "cell_type": "code",
   "execution_count": null,
   "metadata": {},
   "outputs": [],
   "source": [
    "\"\"\"[({\"a\": 4, \"b\": 1, \"c\": 0}, \"ham\"), ... ({\"a\": 5, \"b\": 2, \"c\": 1}, \"ham\"), \n",
    " ... ({\"a\": 0, \"b\": 3, \"c\": 4}, \"spam\"), ... ({\"a\": 5, \"b\": 1, \"c\": 1}, \"ham\"), \n",
    " ... ({\"a\": 1, \"b\": 4, \"c\": 3}, \"spam\")]\"\"\""
   ]
  },
  {
   "cell_type": "code",
   "execution_count": 31,
   "metadata": {},
   "outputs": [],
   "source": [
    "# you want a list of tuples of {freqDist} to label\n",
    "\n",
    "tings = []\n",
    "\n",
    "for label, row in small_df.T.iteritems():\n",
    "    ting = (row.word_count, label)\n",
    "    tings.append(ting)"
   ]
  },
  {
   "cell_type": "code",
   "execution_count": 32,
   "metadata": {},
   "outputs": [
    {
     "data": {
      "text/plain": [
       "[('<FreqDist with 9 samples and 9 outcomes>', 'artisan'),\n",
       " ('<FreqDist with 8 samples and 8 outcomes>', 'not'),\n",
       " ('<FreqDist with 11 samples and 12 outcomes>', 'artisan'),\n",
       " ('<FreqDist with 14 samples and 14 outcomes>', 'artisan'),\n",
       " ('<FreqDist with 13 samples and 13 outcomes>', 'not')]"
      ]
     },
     "execution_count": 32,
     "metadata": {},
     "output_type": "execute_result"
    }
   ],
   "source": [
    "tings[1:6]"
   ]
  },
  {
   "cell_type": "code",
   "execution_count": null,
   "metadata": {},
   "outputs": [],
   "source": []
  },
  {
   "cell_type": "code",
   "execution_count": null,
   "metadata": {},
   "outputs": [],
   "source": []
  },
  {
   "cell_type": "code",
   "execution_count": null,
   "metadata": {},
   "outputs": [],
   "source": []
  },
  {
   "cell_type": "code",
   "execution_count": null,
   "metadata": {},
   "outputs": [],
   "source": []
  },
  {
   "cell_type": "code",
   "execution_count": null,
   "metadata": {},
   "outputs": [],
   "source": []
  },
  {
   "cell_type": "code",
   "execution_count": null,
   "metadata": {},
   "outputs": [],
   "source": []
  },
  {
   "cell_type": "markdown",
   "metadata": {},
   "source": [
    "2. if someone writes a review on a croissant in chicago, what are they likely to say about it. . . using HMM"
   ]
  },
  {
   "cell_type": "code",
   "execution_count": null,
   "metadata": {},
   "outputs": [],
   "source": []
  },
  {
   "cell_type": "code",
   "execution_count": null,
   "metadata": {},
   "outputs": [],
   "source": []
  },
  {
   "cell_type": "code",
   "execution_count": null,
   "metadata": {},
   "outputs": [],
   "source": []
  },
  {
   "cell_type": "code",
   "execution_count": null,
   "metadata": {},
   "outputs": [],
   "source": []
  }
 ],
 "metadata": {
  "kernelspec": {
   "display_name": "Python 3",
   "language": "python",
   "name": "python3"
  },
  "language_info": {
   "codemirror_mode": {
    "name": "ipython",
    "version": 3
   },
   "file_extension": ".py",
   "mimetype": "text/x-python",
   "name": "python",
   "nbconvert_exporter": "python",
   "pygments_lexer": "ipython3",
   "version": "3.7.4"
  }
 },
 "nbformat": 4,
 "nbformat_minor": 2
}
