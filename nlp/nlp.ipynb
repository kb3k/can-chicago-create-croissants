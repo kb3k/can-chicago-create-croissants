{
 "cells": [
  {
   "cell_type": "markdown",
   "metadata": {},
   "source": [
    "#### guide https://www.nltk.org/howto/classify.html\n",
    "\n",
    "1. sentiment/semantic analysis on these reviews. classify a bakery as artisan based on the review."
   ]
  },
  {
   "cell_type": "code",
   "execution_count": 1,
   "metadata": {},
   "outputs": [],
   "source": [
    "import pandas as pd\n",
    "\n",
    "from sklearn.model_selection import train_test_split\n",
    "\n",
    "from nltk.classify import SklearnClassifier\n",
    "from sklearn.naive_bayes import BernoulliNB\n",
    "from sklearn.svm import SVC\n"
   ]
  },
  {
   "cell_type": "code",
   "execution_count": 2,
   "metadata": {},
   "outputs": [],
   "source": [
    "pd.set_option('display.max_rows', None)\n",
    "pd.set_option('display.max_colwidth', None)"
   ]
  },
  {
   "cell_type": "code",
   "execution_count": 3,
   "metadata": {},
   "outputs": [
    {
     "data": {
      "text/html": [
       "<div>\n",
       "<style scoped>\n",
       "    .dataframe tbody tr th:only-of-type {\n",
       "        vertical-align: middle;\n",
       "    }\n",
       "\n",
       "    .dataframe tbody tr th {\n",
       "        vertical-align: top;\n",
       "    }\n",
       "\n",
       "    .dataframe thead th {\n",
       "        text-align: right;\n",
       "    }\n",
       "</style>\n",
       "<table border=\"1\" class=\"dataframe\">\n",
       "  <thead>\n",
       "    <tr style=\"text-align: right;\">\n",
       "      <th></th>\n",
       "      <th>BakeryName</th>\n",
       "      <th>Review</th>\n",
       "      <th>Review_Prepped</th>\n",
       "      <th>Review_Prepped_str</th>\n",
       "      <th>word_count</th>\n",
       "      <th>freqdict</th>\n",
       "      <th>label</th>\n",
       "    </tr>\n",
       "    <tr>\n",
       "      <th>idx</th>\n",
       "      <th></th>\n",
       "      <th></th>\n",
       "      <th></th>\n",
       "      <th></th>\n",
       "      <th></th>\n",
       "      <th></th>\n",
       "      <th></th>\n",
       "    </tr>\n",
       "  </thead>\n",
       "  <tbody>\n",
       "    <tr>\n",
       "      <th>idx0</th>\n",
       "      <td>hendrickx belgian bread crafter</td>\n",
       "      <td>The almond chocolate croissant and french country bread were quite authentic and wonderfully rustic.”\\n</td>\n",
       "      <td>['almond', 'chocol', 'croissant', 'french', 'countri', 'bread', 'quit', 'authent', 'wonder', 'rustic']</td>\n",
       "      <td>almond chocol croissant french countri bread quit authent wonder rustic</td>\n",
       "      <td>&lt;FreqDist with 10 samples and 10 outcomes&gt;</td>\n",
       "      <td>{'almond': 1, 'chocol': 1, 'croissant': 1, 'french': 1, 'countri': 1, 'bread': 1, 'quit': 1, 'authent': 1, 'wonder': 1, 'rustic': 1}</td>\n",
       "      <td>artisan</td>\n",
       "    </tr>\n",
       "    <tr>\n",
       "      <th>idx1</th>\n",
       "      <td>lost larson bakery</td>\n",
       "      <td>These are the best cinnamon rolls ever. The croissant are also delicious and the service is very efficient”\\n</td>\n",
       "      <td>['best', 'cinnamon', 'roll', 'ever', 'croissant', 'also', 'delici', 'servic', 'effici']</td>\n",
       "      <td>best cinnamon roll ever croissant also delici servic effici</td>\n",
       "      <td>&lt;FreqDist with 9 samples and 9 outcomes&gt;</td>\n",
       "      <td>{'best': 1, 'cinnamon': 1, 'roll': 1, 'ever': 1, 'croissant': 1, 'also': 1, 'delici': 1, 'servic': 1, 'effici': 1}</td>\n",
       "      <td>artisan</td>\n",
       "    </tr>\n",
       "  </tbody>\n",
       "</table>\n",
       "</div>"
      ],
      "text/plain": [
       "                           BakeryName  \\\n",
       "idx                                     \n",
       "idx0  hendrickx belgian bread crafter   \n",
       "idx1               lost larson bakery   \n",
       "\n",
       "                                                                                                             Review  \\\n",
       "idx                                                                                                                   \n",
       "idx0        The almond chocolate croissant and french country bread were quite authentic and wonderfully rustic.”\\n   \n",
       "idx1  These are the best cinnamon rolls ever. The croissant are also delicious and the service is very efficient”\\n   \n",
       "\n",
       "                                                                                              Review_Prepped  \\\n",
       "idx                                                                                                            \n",
       "idx0  ['almond', 'chocol', 'croissant', 'french', 'countri', 'bread', 'quit', 'authent', 'wonder', 'rustic']   \n",
       "idx1                 ['best', 'cinnamon', 'roll', 'ever', 'croissant', 'also', 'delici', 'servic', 'effici']   \n",
       "\n",
       "                                                           Review_Prepped_str  \\\n",
       "idx                                                                             \n",
       "idx0  almond chocol croissant french countri bread quit authent wonder rustic   \n",
       "idx1              best cinnamon roll ever croissant also delici servic effici   \n",
       "\n",
       "                                      word_count  \\\n",
       "idx                                                \n",
       "idx0  <FreqDist with 10 samples and 10 outcomes>   \n",
       "idx1    <FreqDist with 9 samples and 9 outcomes>   \n",
       "\n",
       "                                                                                                                                  freqdict  \\\n",
       "idx                                                                                                                                          \n",
       "idx0  {'almond': 1, 'chocol': 1, 'croissant': 1, 'french': 1, 'countri': 1, 'bread': 1, 'quit': 1, 'authent': 1, 'wonder': 1, 'rustic': 1}   \n",
       "idx1                    {'best': 1, 'cinnamon': 1, 'roll': 1, 'ever': 1, 'croissant': 1, 'also': 1, 'delici': 1, 'servic': 1, 'effici': 1}   \n",
       "\n",
       "        label  \n",
       "idx            \n",
       "idx0  artisan  \n",
       "idx1  artisan  "
      ]
     },
     "execution_count": 3,
     "metadata": {},
     "output_type": "execute_result"
    }
   ],
   "source": [
    "df = pd.read_csv(\"labeled_croissants.csv\", index_col=\"idx\")\n",
    "df.head(2)"
   ]
  },
  {
   "cell_type": "code",
   "execution_count": 6,
   "metadata": {},
   "outputs": [],
   "source": [
    "small_df_archive = df[[\"freqdict\", \"label\"]]\n",
    "small_df = small_df_archive.reset_index()\n",
    "small_df.drop(columns='idx',inplace=True)\n",
    "small_df.set_index('label', inplace=True)"
   ]
  },
  {
   "cell_type": "code",
   "execution_count": 7,
   "metadata": {},
   "outputs": [
    {
     "data": {
      "text/html": [
       "<div>\n",
       "<style scoped>\n",
       "    .dataframe tbody tr th:only-of-type {\n",
       "        vertical-align: middle;\n",
       "    }\n",
       "\n",
       "    .dataframe tbody tr th {\n",
       "        vertical-align: top;\n",
       "    }\n",
       "\n",
       "    .dataframe thead th {\n",
       "        text-align: right;\n",
       "    }\n",
       "</style>\n",
       "<table border=\"1\" class=\"dataframe\">\n",
       "  <thead>\n",
       "    <tr style=\"text-align: right;\">\n",
       "      <th></th>\n",
       "      <th>freqdict</th>\n",
       "      <th>label</th>\n",
       "    </tr>\n",
       "    <tr>\n",
       "      <th>idx</th>\n",
       "      <th></th>\n",
       "      <th></th>\n",
       "    </tr>\n",
       "  </thead>\n",
       "  <tbody>\n",
       "    <tr>\n",
       "      <th>idx0</th>\n",
       "      <td>{'almond': 1, 'chocol': 1, 'croissant': 1, 'french': 1, 'countri': 1, 'bread': 1, 'quit': 1, 'authent': 1, 'wonder': 1, 'rustic': 1}</td>\n",
       "      <td>artisan</td>\n",
       "    </tr>\n",
       "    <tr>\n",
       "      <th>idx1</th>\n",
       "      <td>{'best': 1, 'cinnamon': 1, 'roll': 1, 'ever': 1, 'croissant': 1, 'also': 1, 'delici': 1, 'servic': 1, 'effici': 1}</td>\n",
       "      <td>artisan</td>\n",
       "    </tr>\n",
       "    <tr>\n",
       "      <th>idx2</th>\n",
       "      <td>{'remind': 1, 'croissant': 1, 'light': 1, 'actual': 1, 'fill': 1, 'good': 1, 'clear': 1, 'tast': 1}</td>\n",
       "      <td>not</td>\n",
       "    </tr>\n",
       "    <tr>\n",
       "      <th>idx3</th>\n",
       "      <td>{'minut': 1, 'ham': 1, 'chees': 1, 'croissant': 2, ':': 1, 'super': 1, 'flaki': 1, 'sesam': 1, 'seed': 1, 'nice': 1, 'touch': 1}</td>\n",
       "      <td>artisan</td>\n",
       "    </tr>\n",
       "    <tr>\n",
       "      <th>idx4</th>\n",
       "      <td>{'croissant': 1, 'desert': 1, 'search': 1, 'friend': 1, 'staff': 1, 'great': 1, 'tea': 1, 'coffe': 1, 'truli': 1, 'welcom': 1, 'addit': 1, 'neighborhood': 1, 'best': 1, 'luck': 1}</td>\n",
       "      <td>artisan</td>\n",
       "    </tr>\n",
       "  </tbody>\n",
       "</table>\n",
       "</div>"
      ],
      "text/plain": [
       "                                                                                                                                                                                 freqdict  \\\n",
       "idx                                                                                                                                                                                         \n",
       "idx0                                                 {'almond': 1, 'chocol': 1, 'croissant': 1, 'french': 1, 'countri': 1, 'bread': 1, 'quit': 1, 'authent': 1, 'wonder': 1, 'rustic': 1}   \n",
       "idx1                                                                   {'best': 1, 'cinnamon': 1, 'roll': 1, 'ever': 1, 'croissant': 1, 'also': 1, 'delici': 1, 'servic': 1, 'effici': 1}   \n",
       "idx2                                                                                  {'remind': 1, 'croissant': 1, 'light': 1, 'actual': 1, 'fill': 1, 'good': 1, 'clear': 1, 'tast': 1}   \n",
       "idx3                                                     {'minut': 1, 'ham': 1, 'chees': 1, 'croissant': 2, ':': 1, 'super': 1, 'flaki': 1, 'sesam': 1, 'seed': 1, 'nice': 1, 'touch': 1}   \n",
       "idx4  {'croissant': 1, 'desert': 1, 'search': 1, 'friend': 1, 'staff': 1, 'great': 1, 'tea': 1, 'coffe': 1, 'truli': 1, 'welcom': 1, 'addit': 1, 'neighborhood': 1, 'best': 1, 'luck': 1}   \n",
       "\n",
       "        label  \n",
       "idx            \n",
       "idx0  artisan  \n",
       "idx1  artisan  \n",
       "idx2      not  \n",
       "idx3  artisan  \n",
       "idx4  artisan  "
      ]
     },
     "execution_count": 7,
     "metadata": {},
     "output_type": "execute_result"
    }
   ],
   "source": [
    "small_df_archive.head()"
   ]
  },
  {
   "cell_type": "code",
   "execution_count": 8,
   "metadata": {},
   "outputs": [
    {
     "data": {
      "text/html": [
       "<div>\n",
       "<style scoped>\n",
       "    .dataframe tbody tr th:only-of-type {\n",
       "        vertical-align: middle;\n",
       "    }\n",
       "\n",
       "    .dataframe tbody tr th {\n",
       "        vertical-align: top;\n",
       "    }\n",
       "\n",
       "    .dataframe thead th {\n",
       "        text-align: right;\n",
       "    }\n",
       "</style>\n",
       "<table border=\"1\" class=\"dataframe\">\n",
       "  <thead>\n",
       "    <tr style=\"text-align: right;\">\n",
       "      <th></th>\n",
       "      <th>freqdict</th>\n",
       "    </tr>\n",
       "    <tr>\n",
       "      <th>label</th>\n",
       "      <th></th>\n",
       "    </tr>\n",
       "  </thead>\n",
       "  <tbody>\n",
       "    <tr>\n",
       "      <th>artisan</th>\n",
       "      <td>{'almond': 1, 'chocol': 1, 'croissant': 1, 'french': 1, 'countri': 1, 'bread': 1, 'quit': 1, 'authent': 1, 'wonder': 1, 'rustic': 1}</td>\n",
       "    </tr>\n",
       "    <tr>\n",
       "      <th>artisan</th>\n",
       "      <td>{'best': 1, 'cinnamon': 1, 'roll': 1, 'ever': 1, 'croissant': 1, 'also': 1, 'delici': 1, 'servic': 1, 'effici': 1}</td>\n",
       "    </tr>\n",
       "    <tr>\n",
       "      <th>not</th>\n",
       "      <td>{'remind': 1, 'croissant': 1, 'light': 1, 'actual': 1, 'fill': 1, 'good': 1, 'clear': 1, 'tast': 1}</td>\n",
       "    </tr>\n",
       "    <tr>\n",
       "      <th>artisan</th>\n",
       "      <td>{'minut': 1, 'ham': 1, 'chees': 1, 'croissant': 2, ':': 1, 'super': 1, 'flaki': 1, 'sesam': 1, 'seed': 1, 'nice': 1, 'touch': 1}</td>\n",
       "    </tr>\n",
       "    <tr>\n",
       "      <th>artisan</th>\n",
       "      <td>{'croissant': 1, 'desert': 1, 'search': 1, 'friend': 1, 'staff': 1, 'great': 1, 'tea': 1, 'coffe': 1, 'truli': 1, 'welcom': 1, 'addit': 1, 'neighborhood': 1, 'best': 1, 'luck': 1}</td>\n",
       "    </tr>\n",
       "  </tbody>\n",
       "</table>\n",
       "</div>"
      ],
      "text/plain": [
       "                                                                                                                                                                                    freqdict\n",
       "label                                                                                                                                                                                       \n",
       "artisan                                                 {'almond': 1, 'chocol': 1, 'croissant': 1, 'french': 1, 'countri': 1, 'bread': 1, 'quit': 1, 'authent': 1, 'wonder': 1, 'rustic': 1}\n",
       "artisan                                                                   {'best': 1, 'cinnamon': 1, 'roll': 1, 'ever': 1, 'croissant': 1, 'also': 1, 'delici': 1, 'servic': 1, 'effici': 1}\n",
       "not                                                                                      {'remind': 1, 'croissant': 1, 'light': 1, 'actual': 1, 'fill': 1, 'good': 1, 'clear': 1, 'tast': 1}\n",
       "artisan                                                     {'minut': 1, 'ham': 1, 'chees': 1, 'croissant': 2, ':': 1, 'super': 1, 'flaki': 1, 'sesam': 1, 'seed': 1, 'nice': 1, 'touch': 1}\n",
       "artisan  {'croissant': 1, 'desert': 1, 'search': 1, 'friend': 1, 'staff': 1, 'great': 1, 'tea': 1, 'coffe': 1, 'truli': 1, 'welcom': 1, 'addit': 1, 'neighborhood': 1, 'best': 1, 'luck': 1}"
      ]
     },
     "execution_count": 8,
     "metadata": {},
     "output_type": "execute_result"
    }
   ],
   "source": [
    "small_df.head()"
   ]
  },
  {
   "cell_type": "code",
   "execution_count": 9,
   "metadata": {},
   "outputs": [],
   "source": [
    "# you want a list of tuples of {freqDist} to label, fixing string representation of dictionary with eval\n",
    "# note : (eval is not recommended on larger datasets)\n",
    "\n",
    "tings = []\n",
    "\n",
    "for label, row in small_df.T.iteritems():\n",
    "    ting = (eval(row.freqdict), label)\n",
    "    tings.append(ting)"
   ]
  },
  {
   "cell_type": "code",
   "execution_count": 10,
   "metadata": {},
   "outputs": [
    {
     "data": {
      "text/plain": [
       "[({'best': 1,\n",
       "   'cinnamon': 1,\n",
       "   'roll': 1,\n",
       "   'ever': 1,\n",
       "   'croissant': 1,\n",
       "   'also': 1,\n",
       "   'delici': 1,\n",
       "   'servic': 1,\n",
       "   'effici': 1},\n",
       "  'artisan'),\n",
       " ({'remind': 1,\n",
       "   'croissant': 1,\n",
       "   'light': 1,\n",
       "   'actual': 1,\n",
       "   'fill': 1,\n",
       "   'good': 1,\n",
       "   'clear': 1,\n",
       "   'tast': 1},\n",
       "  'not')]"
      ]
     },
     "execution_count": 10,
     "metadata": {},
     "output_type": "execute_result"
    }
   ],
   "source": [
    "tings[1:3]"
   ]
  },
  {
   "cell_type": "code",
   "execution_count": 11,
   "metadata": {},
   "outputs": [
    {
     "name": "stdout",
     "output_type": "stream",
     "text": [
      "60\n"
     ]
    }
   ],
   "source": [
    "#X_train, X_test, y_train, y_test = train_test_split(df, test_size=0.2, random_state=25)\n",
    "train_data = tings[29:-1]\n",
    "print(len(train_data))"
   ]
  },
  {
   "cell_type": "code",
   "execution_count": 12,
   "metadata": {},
   "outputs": [],
   "source": [
    "classif = SklearnClassifier(BernoulliNB()).train(train_data)"
   ]
  },
  {
   "cell_type": "code",
   "execution_count": 13,
   "metadata": {},
   "outputs": [
    {
     "name": "stdout",
     "output_type": "stream",
     "text": [
      "30\n"
     ]
    }
   ],
   "source": [
    "test_data = tings[:30]\n",
    "print(len(test_data))"
   ]
  },
  {
   "cell_type": "code",
   "execution_count": 14,
   "metadata": {},
   "outputs": [],
   "source": [
    "test_data = [data[0] for data in test_data]"
   ]
  },
  {
   "cell_type": "code",
   "execution_count": 15,
   "metadata": {},
   "outputs": [
    {
     "data": {
      "text/plain": [
       "['not',\n",
       " 'not',\n",
       " 'not',\n",
       " 'not',\n",
       " 'not',\n",
       " 'not',\n",
       " 'not',\n",
       " 'not',\n",
       " 'not',\n",
       " 'not',\n",
       " 'not',\n",
       " 'not',\n",
       " 'not',\n",
       " 'not',\n",
       " 'not',\n",
       " 'not',\n",
       " 'not',\n",
       " 'not',\n",
       " 'not',\n",
       " 'not',\n",
       " 'not',\n",
       " 'not',\n",
       " 'not',\n",
       " 'not',\n",
       " 'not',\n",
       " 'not',\n",
       " 'not',\n",
       " 'not',\n",
       " 'artisan',\n",
       " 'maybe']"
      ]
     },
     "execution_count": 15,
     "metadata": {},
     "output_type": "execute_result"
    }
   ],
   "source": [
    "classif.classify_many(test_data)"
   ]
  },
  {
   "cell_type": "code",
   "execution_count": 16,
   "metadata": {},
   "outputs": [
    {
     "data": {
      "text/plain": [
       "['not',\n",
       " 'not',\n",
       " 'not',\n",
       " 'maybe',\n",
       " 'not',\n",
       " 'not',\n",
       " 'not',\n",
       " 'not',\n",
       " 'not',\n",
       " 'not',\n",
       " 'not',\n",
       " 'not',\n",
       " 'not',\n",
       " 'not',\n",
       " 'not',\n",
       " 'not',\n",
       " 'not',\n",
       " 'not',\n",
       " 'not',\n",
       " 'not',\n",
       " 'not',\n",
       " 'not',\n",
       " 'not',\n",
       " 'not',\n",
       " 'not',\n",
       " 'not',\n",
       " 'not',\n",
       " 'not',\n",
       " 'not',\n",
       " 'maybe']"
      ]
     },
     "execution_count": 16,
     "metadata": {},
     "output_type": "execute_result"
    }
   ],
   "source": [
    "classif = SklearnClassifier(SVC(), sparse=False).train(train_data)\n",
    "classif.classify_many(test_data)"
   ]
  },
  {
   "cell_type": "code",
   "execution_count": null,
   "metadata": {},
   "outputs": [],
   "source": [
    "# naturally limitations occur, but here for a poc"
   ]
  }
 ],
 "metadata": {
  "kernelspec": {
   "display_name": "Python 3",
   "language": "python",
   "name": "python3"
  },
  "language_info": {
   "codemirror_mode": {
    "name": "ipython",
    "version": 3
   },
   "file_extension": ".py",
   "mimetype": "text/x-python",
   "name": "python",
   "nbconvert_exporter": "python",
   "pygments_lexer": "ipython3",
   "version": "3.7.4"
  }
 },
 "nbformat": 4,
 "nbformat_minor": 2
}
