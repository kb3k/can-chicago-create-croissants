{
 "cells": [
  {
   "cell_type": "code",
   "execution_count": 1,
   "metadata": {},
   "outputs": [],
   "source": [
    "import warnings\n",
    "warnings.simplefilter(action='ignore', category=Warning)"
   ]
  },
  {
   "cell_type": "code",
   "execution_count": 2,
   "metadata": {},
   "outputs": [],
   "source": [
    "import pandas as pd\n",
    "\n",
    "import nltk\n",
    "from nltk.tokenize import wordpunct_tokenize\n",
    "from nltk.corpus import stopwords\n",
    "from nltk.stem.snowball import SnowballStemmer\n",
    "\n",
    "from nltk.classify import NaiveBayesClassifier\n",
    "from nltk.corpus import subjectivity\n",
    "from nltk.sentiment import SentimentAnalyzer\n",
    "from nltk.sentiment.util import *\n",
    "\n",
    "from sklearn.feature_extraction.text import CountVectorizer\n",
    "\n",
    "import string\n",
    "\n",
    "import matplotlib.pyplot as plt\n",
    "\n",
    "from collections import Counter"
   ]
  },
  {
   "cell_type": "code",
   "execution_count": 3,
   "metadata": {},
   "outputs": [],
   "source": [
    "replace_str1 = '<span class=\"css-1egxyvc\" data-font-weight=\"bold\">croissant</span>'\n",
    "replace_str2 = '<span class=\"css-1egxyvc\" data-font-weight=\"bold\">croissants</span>'\n",
    "replace_str3 = '<span class=\"css-1egxyvc\" data-font-weight=\"bold\">Croissant</span>'"
   ]
  },
  {
   "cell_type": "code",
   "execution_count": 4,
   "metadata": {},
   "outputs": [
    {
     "name": "stdout",
     "output_type": "stream",
     "text": [
      "90\n"
     ]
    }
   ],
   "source": [
    "reviews = []\n",
    "\n",
    "with open(\"../archive/reviews.txt\", \"r\") as the_file:\n",
    "    while True:\n",
    "        line = the_file.readline()\n",
    "        if line == \"\":\n",
    "            break\n",
    "        elif len(line) > 3: # \\n\n",
    "            line = line.replace(replace_str1, \"croissant\")\n",
    "            line = line.replace(replace_str2, \"croissant\")\n",
    "            line = line.replace(replace_str3, \"croissant\")\n",
    "            reviews.append(line)\n",
    "\n",
    "print(len(reviews))"
   ]
  },
  {
   "cell_type": "code",
   "execution_count": 5,
   "metadata": {},
   "outputs": [
    {
     "name": "stdout",
     "output_type": "stream",
     "text": [
      "['lost larson bakery : These are the best cinnamon rolls ever. The croissant are also delicious and the service is very efficient”\\n', 'bang bang pie and biscuits : reminded me of a croissant) and light. The actual filling was very good and you can clearly taste”\\n', 'good ambler : minutes. - Ham and cheese croissant: croissant was super flaky and the sesame seeds were a nice touch”\\n']\n"
     ]
    }
   ],
   "source": [
    "print(reviews[1:4])"
   ]
  },
  {
   "cell_type": "code",
   "execution_count": 6,
   "metadata": {},
   "outputs": [
    {
     "data": {
      "text/html": [
       "<div>\n",
       "<style scoped>\n",
       "    .dataframe tbody tr th:only-of-type {\n",
       "        vertical-align: middle;\n",
       "    }\n",
       "\n",
       "    .dataframe tbody tr th {\n",
       "        vertical-align: top;\n",
       "    }\n",
       "\n",
       "    .dataframe thead th {\n",
       "        text-align: right;\n",
       "    }\n",
       "</style>\n",
       "<table border=\"1\" class=\"dataframe\">\n",
       "  <thead>\n",
       "    <tr style=\"text-align: right;\">\n",
       "      <th></th>\n",
       "      <th>BakeryName</th>\n",
       "      <th>Review</th>\n",
       "    </tr>\n",
       "    <tr>\n",
       "      <th>idx</th>\n",
       "      <th></th>\n",
       "      <th></th>\n",
       "    </tr>\n",
       "  </thead>\n",
       "  <tbody>\n",
       "    <tr>\n",
       "      <th>idx0</th>\n",
       "      <td>hendrickx belgian bread crafter</td>\n",
       "      <td>The almond chocolate croissant and french coun...</td>\n",
       "    </tr>\n",
       "    <tr>\n",
       "      <th>idx1</th>\n",
       "      <td>lost larson bakery</td>\n",
       "      <td>These are the best cinnamon rolls ever. The cr...</td>\n",
       "    </tr>\n",
       "    <tr>\n",
       "      <th>idx2</th>\n",
       "      <td>bang bang pie and biscuits</td>\n",
       "      <td>reminded me of a croissant) and light. The act...</td>\n",
       "    </tr>\n",
       "    <tr>\n",
       "      <th>idx3</th>\n",
       "      <td>good ambler</td>\n",
       "      <td>minutes. - Ham and cheese croissant: croissant...</td>\n",
       "    </tr>\n",
       "    <tr>\n",
       "      <th>idx4</th>\n",
       "      <td>patisserie coralie</td>\n",
       "      <td>is a croissant desert. Search no more. Very fr...</td>\n",
       "    </tr>\n",
       "  </tbody>\n",
       "</table>\n",
       "</div>"
      ],
      "text/plain": [
       "                           BakeryName  \\\n",
       "idx                                     \n",
       "idx0  hendrickx belgian bread crafter   \n",
       "idx1               lost larson bakery   \n",
       "idx2       bang bang pie and biscuits   \n",
       "idx3                      good ambler   \n",
       "idx4               patisserie coralie   \n",
       "\n",
       "                                                 Review  \n",
       "idx                                                      \n",
       "idx0  The almond chocolate croissant and french coun...  \n",
       "idx1  These are the best cinnamon rolls ever. The cr...  \n",
       "idx2  reminded me of a croissant) and light. The act...  \n",
       "idx3  minutes. - Ham and cheese croissant: croissant...  \n",
       "idx4  is a croissant desert. Search no more. Very fr...  "
      ]
     },
     "execution_count": 6,
     "metadata": {},
     "output_type": "execute_result"
    }
   ],
   "source": [
    "# I like this version better but pandas words differently, so later we conform\n",
    "dict_reviews = {review.split(' : ')[0]: review.split(' : ')[1] for review in reviews}\n",
    "\n",
    "names = list(dict_reviews.keys())\n",
    "names = [name.split(\"?hrid=\")[0] for name in names]\n",
    "names = [name.replace(\"%C3%A2\", \"a\").replace(\"%C3%A9\", \"a\") for name in names]\n",
    "words = list(dict_reviews.values())\n",
    "index = ['idx'+str(idx) for idx in range(0, len(names))]\n",
    "dict_for_pd = {'idx': index, 'BakeryName': names, 'Review': words}\n",
    "\n",
    "df = pd.DataFrame.from_dict(dict_for_pd)\n",
    "df.set_index(\"idx\", inplace = True)\n",
    "df.head()"
   ]
  },
  {
   "cell_type": "code",
   "execution_count": 7,
   "metadata": {},
   "outputs": [
    {
     "data": {
      "text/html": [
       "<div>\n",
       "<style scoped>\n",
       "    .dataframe tbody tr th:only-of-type {\n",
       "        vertical-align: middle;\n",
       "    }\n",
       "\n",
       "    .dataframe tbody tr th {\n",
       "        vertical-align: top;\n",
       "    }\n",
       "\n",
       "    .dataframe thead th {\n",
       "        text-align: right;\n",
       "    }\n",
       "</style>\n",
       "<table border=\"1\" class=\"dataframe\">\n",
       "  <thead>\n",
       "    <tr style=\"text-align: right;\">\n",
       "      <th></th>\n",
       "      <th>BakeryName</th>\n",
       "      <th>Review</th>\n",
       "    </tr>\n",
       "    <tr>\n",
       "      <th>idx</th>\n",
       "      <th></th>\n",
       "      <th></th>\n",
       "    </tr>\n",
       "  </thead>\n",
       "  <tbody>\n",
       "    <tr>\n",
       "      <th>idx3</th>\n",
       "      <td>good ambler</td>\n",
       "      <td>minutes. - Ham and cheese croissant: croissant was super flaky and the sesame seeds were a nice touch”\\n</td>\n",
       "    </tr>\n",
       "    <tr>\n",
       "      <th>idx16</th>\n",
       "      <td>hoosier mama pie company</td>\n",
       "      <td>and cream admixture and a flaky buttery crust almost like that of a croissant. Indecisive and gluttonous as”\\n</td>\n",
       "    </tr>\n",
       "    <tr>\n",
       "      <th>idx33</th>\n",
       "      <td>caffe umbria</td>\n",
       "      <td>are the highlight of the show, you absolutely have to get a croissant - it was so flaky and buttery and the muffin was also moist and had a hint of cinnamon!!!”\\n</td>\n",
       "    </tr>\n",
       "    <tr>\n",
       "      <th>idx39</th>\n",
       "      <td>abc bakery and deli norridge</td>\n",
       "      <td>of the seductive sweets. I chose a nutella croissant! Fluffy, flaky, sticky hazelnut spread glory. Yes”\\n</td>\n",
       "    </tr>\n",
       "  </tbody>\n",
       "</table>\n",
       "</div>"
      ],
      "text/plain": [
       "                         BakeryName  \\\n",
       "idx                                   \n",
       "idx3                    good ambler   \n",
       "idx16      hoosier mama pie company   \n",
       "idx33                  caffe umbria   \n",
       "idx39  abc bakery and deli norridge   \n",
       "\n",
       "                                                                                                                                                                   Review  \n",
       "idx                                                                                                                                                                        \n",
       "idx3                                                             minutes. - Ham and cheese croissant: croissant was super flaky and the sesame seeds were a nice touch”\\n  \n",
       "idx16                                                      and cream admixture and a flaky buttery crust almost like that of a croissant. Indecisive and gluttonous as”\\n  \n",
       "idx33  are the highlight of the show, you absolutely have to get a croissant - it was so flaky and buttery and the muffin was also moist and had a hint of cinnamon!!!”\\n  \n",
       "idx39                                                           of the seductive sweets. I chose a nutella croissant! Fluffy, flaky, sticky hazelnut spread glory. Yes”\\n  "
      ]
     },
     "execution_count": 7,
     "metadata": {},
     "output_type": "execute_result"
    }
   ],
   "source": [
    "# some peering\n",
    "pd.options.display.max_colwidth = None\n",
    "df[df['Review'].str.contains(\"flak\")]"
   ]
  },
  {
   "cell_type": "code",
   "execution_count": 8,
   "metadata": {},
   "outputs": [],
   "source": [
    "# hoosier mama is not a review on a croissant\n",
    "# not a huge nutella fan, it's just sugar. too easy\n",
    "# caffe umbria and good ambler are the winners based on this.\n",
    "# but let's do more with these reviews\n",
    "# while we r here. "
   ]
  },
  {
   "cell_type": "code",
   "execution_count": 9,
   "metadata": {},
   "outputs": [
    {
     "data": {
      "text/html": [
       "<div>\n",
       "<style scoped>\n",
       "    .dataframe tbody tr th:only-of-type {\n",
       "        vertical-align: middle;\n",
       "    }\n",
       "\n",
       "    .dataframe tbody tr th {\n",
       "        vertical-align: top;\n",
       "    }\n",
       "\n",
       "    .dataframe thead th {\n",
       "        text-align: right;\n",
       "    }\n",
       "</style>\n",
       "<table border=\"1\" class=\"dataframe\">\n",
       "  <thead>\n",
       "    <tr style=\"text-align: right;\">\n",
       "      <th></th>\n",
       "      <th>BakeryName</th>\n",
       "      <th>Review</th>\n",
       "    </tr>\n",
       "    <tr>\n",
       "      <th>idx</th>\n",
       "      <th></th>\n",
       "      <th></th>\n",
       "    </tr>\n",
       "  </thead>\n",
       "  <tbody>\n",
       "  </tbody>\n",
       "</table>\n",
       "</div>"
      ],
      "text/plain": [
       "Empty DataFrame\n",
       "Columns: [BakeryName, Review]\n",
       "Index: []"
      ]
     },
     "execution_count": 9,
     "metadata": {},
     "output_type": "execute_result"
    }
   ],
   "source": [
    "df[df['Review'].str.contains(\"artisan\")]"
   ]
  },
  {
   "cell_type": "code",
   "execution_count": 10,
   "metadata": {},
   "outputs": [],
   "source": [
    "# tokenizing, filtering stop words, stemming, and lower casing\n",
    "\n",
    "stop_words = set(stopwords.words(\"english\"))\n",
    "stop_words = stop_words.union({'!', '!!!', '!!!”', '!)', '!),', '!?', '!”', '\"', '\">', '.', \"'\", '\\n'\\\n",
    "                               '&', '(', ')', '),', ').', '+', ',', '-', '--', '&', '...', '.”', '/',\n",
    "                               '”', '…', '=', '/', '<', '...\"'})\n",
    "\n",
    "stemmer = SnowballStemmer('english')"
   ]
  },
  {
   "cell_type": "code",
   "execution_count": 11,
   "metadata": {},
   "outputs": [],
   "source": [
    "df['Review_Prepped'] = df.Review.apply(lambda xyz: \n",
    "                                       [stemmer.stem(word.lower()) \n",
    "                                        for word in wordpunct_tokenize(xyz) \n",
    "                                        if word.lower() not in stop_words])"
   ]
  },
  {
   "cell_type": "code",
   "execution_count": 12,
   "metadata": {},
   "outputs": [
    {
     "data": {
      "text/html": [
       "<div>\n",
       "<style scoped>\n",
       "    .dataframe tbody tr th:only-of-type {\n",
       "        vertical-align: middle;\n",
       "    }\n",
       "\n",
       "    .dataframe tbody tr th {\n",
       "        vertical-align: top;\n",
       "    }\n",
       "\n",
       "    .dataframe thead th {\n",
       "        text-align: right;\n",
       "    }\n",
       "</style>\n",
       "<table border=\"1\" class=\"dataframe\">\n",
       "  <thead>\n",
       "    <tr style=\"text-align: right;\">\n",
       "      <th></th>\n",
       "      <th>BakeryName</th>\n",
       "      <th>Review</th>\n",
       "      <th>Review_Prepped</th>\n",
       "    </tr>\n",
       "    <tr>\n",
       "      <th>idx</th>\n",
       "      <th></th>\n",
       "      <th></th>\n",
       "      <th></th>\n",
       "    </tr>\n",
       "  </thead>\n",
       "  <tbody>\n",
       "    <tr>\n",
       "      <th>idx0</th>\n",
       "      <td>hendrickx belgian bread crafter</td>\n",
       "      <td>The almond chocolate croissant and french country bread were quite authentic and wonderfully rustic.”\\n</td>\n",
       "      <td>[almond, chocol, croissant, french, countri, bread, quit, authent, wonder, rustic]</td>\n",
       "    </tr>\n",
       "    <tr>\n",
       "      <th>idx1</th>\n",
       "      <td>lost larson bakery</td>\n",
       "      <td>These are the best cinnamon rolls ever. The croissant are also delicious and the service is very efficient”\\n</td>\n",
       "      <td>[best, cinnamon, roll, ever, croissant, also, delici, servic, effici]</td>\n",
       "    </tr>\n",
       "    <tr>\n",
       "      <th>idx2</th>\n",
       "      <td>bang bang pie and biscuits</td>\n",
       "      <td>reminded me of a croissant) and light. The actual filling was very good and you can clearly taste”\\n</td>\n",
       "      <td>[remind, croissant, light, actual, fill, good, clear, tast]</td>\n",
       "    </tr>\n",
       "    <tr>\n",
       "      <th>idx3</th>\n",
       "      <td>good ambler</td>\n",
       "      <td>minutes. - Ham and cheese croissant: croissant was super flaky and the sesame seeds were a nice touch”\\n</td>\n",
       "      <td>[minut, ham, chees, croissant, :, croissant, super, flaki, sesam, seed, nice, touch]</td>\n",
       "    </tr>\n",
       "    <tr>\n",
       "      <th>idx4</th>\n",
       "      <td>patisserie coralie</td>\n",
       "      <td>is a croissant desert. Search no more. Very friendly staff, great tea and coffee. A truly welcome addition to the neighborhood. Best of luck.”\\n</td>\n",
       "      <td>[croissant, desert, search, friend, staff, great, tea, coffe, truli, welcom, addit, neighborhood, best, luck]</td>\n",
       "    </tr>\n",
       "  </tbody>\n",
       "</table>\n",
       "</div>"
      ],
      "text/plain": [
       "                           BakeryName  \\\n",
       "idx                                     \n",
       "idx0  hendrickx belgian bread crafter   \n",
       "idx1               lost larson bakery   \n",
       "idx2       bang bang pie and biscuits   \n",
       "idx3                      good ambler   \n",
       "idx4               patisserie coralie   \n",
       "\n",
       "                                                                                                                                                Review  \\\n",
       "idx                                                                                                                                                      \n",
       "idx0                                           The almond chocolate croissant and french country bread were quite authentic and wonderfully rustic.”\\n   \n",
       "idx1                                     These are the best cinnamon rolls ever. The croissant are also delicious and the service is very efficient”\\n   \n",
       "idx2                                              reminded me of a croissant) and light. The actual filling was very good and you can clearly taste”\\n   \n",
       "idx3                                          minutes. - Ham and cheese croissant: croissant was super flaky and the sesame seeds were a nice touch”\\n   \n",
       "idx4  is a croissant desert. Search no more. Very friendly staff, great tea and coffee. A truly welcome addition to the neighborhood. Best of luck.”\\n   \n",
       "\n",
       "                                                                                                     Review_Prepped  \n",
       "idx                                                                                                                  \n",
       "idx0                             [almond, chocol, croissant, french, countri, bread, quit, authent, wonder, rustic]  \n",
       "idx1                                          [best, cinnamon, roll, ever, croissant, also, delici, servic, effici]  \n",
       "idx2                                                    [remind, croissant, light, actual, fill, good, clear, tast]  \n",
       "idx3                           [minut, ham, chees, croissant, :, croissant, super, flaki, sesam, seed, nice, touch]  \n",
       "idx4  [croissant, desert, search, friend, staff, great, tea, coffe, truli, welcom, addit, neighborhood, best, luck]  "
      ]
     },
     "execution_count": 12,
     "metadata": {},
     "output_type": "execute_result"
    }
   ],
   "source": [
    "df.head()"
   ]
  },
  {
   "cell_type": "code",
   "execution_count": 13,
   "metadata": {},
   "outputs": [],
   "source": [
    "df['Review_Prepped_str'] = df['Review_Prepped'].apply(lambda bbg: \" \".join(bbg))\n",
    "df['word_count'] = df['Review_Prepped_str'].apply(lambda x : nltk.FreqDist(nltk.word_tokenize(x))) #previously Review\n",
    "df[\"freqdict\"] = df.word_count.apply(lambda xxx: dict(xxx))"
   ]
  },
  {
   "cell_type": "code",
   "execution_count": 14,
   "metadata": {},
   "outputs": [],
   "source": [
    "word_freq = pd.concat(map(pd.Series, df['word_count'])).index.value_counts().to_dict()\n",
    "freq_for_plot = Counter(\" \".join(df['Review_Prepped_str']).split()).most_common(30)"
   ]
  },
  {
   "cell_type": "code",
   "execution_count": 17,
   "metadata": {},
   "outputs": [
    {
     "data": {
      "image/png": "[encoded data removed]",
      "text/plain": [
       "<Figure size 1440x720 with 1 Axes>"
      ]
     },
     "metadata": {
      "needs_background": "light"
     },
     "output_type": "display_data"
    }
   ],
   "source": [
    "#below code is for words on x axis, tilted a bit; doesnt look good tho\n",
    "#plt.bar(*zip(*freq_for_plot));\n",
    "#plt.xticks(rotation = 75)\n",
    "#plt.rcParams[\"figure.fizsize\"] = (20, 3)\n",
    "\n",
    "plt.barh(*zip(*freq_for_plot));\n",
    "plt.rcParams[\"figure.figsize\"] = (20, 10)\n",
    "plt.xlabel(\"Frequency\")\n",
    "plt.ylabel(\"Word\") # canNot figure out how to get rid of the ...\" !\n",
    "plt.title(\"Croissant POC Word Frequency Distribution\")\n",
    "plt.show()"
   ]
  },
  {
   "cell_type": "code",
   "execution_count": 16,
   "metadata": {},
   "outputs": [],
   "source": [
    "df['label'] = \"\"\n",
    "df.to_csv(\"unlabeled_df.csv\")"
   ]
  }
 ],
 "metadata": {
  "kernelspec": {
   "display_name": "Python 3",
   "language": "python",
   "name": "python3"
  },
  "language_info": {
   "codemirror_mode": {
    "name": "ipython",
    "version": 3
   },
   "file_extension": ".py",
   "mimetype": "text/x-python",
   "name": "python",
   "nbconvert_exporter": "python",
   "pygments_lexer": "ipython3",
   "version": "3.7.4"
  }
 },
 "nbformat": 4,
 "nbformat_minor": 2
}
